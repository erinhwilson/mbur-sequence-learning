{
 "cells": [
  {
   "cell_type": "markdown",
   "id": "pretty-spirituality",
   "metadata": {},
   "source": [
    "# checking evolution reduction"
   ]
  },
  {
   "cell_type": "code",
   "execution_count": 1,
   "id": "stretch-playing",
   "metadata": {},
   "outputs": [],
   "source": [
    "import altair as alt\n",
    "import matplotlib.pyplot as plt\n",
    "import numpy as np\n",
    "import pandas as pd\n",
    "import seaborn as sns\n",
    "import scipy"
   ]
  },
  {
   "cell_type": "code",
   "execution_count": 2,
   "id": "stylish-glass",
   "metadata": {
    "scrolled": true
   },
   "outputs": [
    {
     "data": {
      "text/plain": [
       "['CNN_cv0_r1.0_regularSeqs_pred_res.tsv',\n",
       " 'CNN_cv0_r1.0_shuffleSeqs_pred_res.tsv']"
      ]
     },
     "execution_count": 2,
     "metadata": {},
     "output_type": "execute_result"
    }
   ],
   "source": [
    "from os import listdir\n",
    "\n",
    "dirname = '../hyak_scp_dump/out_evo_reduction'\n",
    "filenames = listdir(dirname)\n",
    "tsvs = [filename for filename in filenames if (filename.endswith('.tsv') and 'test_preds' not in filename)]\n",
    "tsvs\n"
   ]
  },
  {
   "cell_type": "code",
   "execution_count": 3,
   "id": "interior-imagination",
   "metadata": {},
   "outputs": [
    {
     "data": {
      "text/html": [
       "<div>\n",
       "<style scoped>\n",
       "    .dataframe tbody tr th:only-of-type {\n",
       "        vertical-align: middle;\n",
       "    }\n",
       "\n",
       "    .dataframe tbody tr th {\n",
       "        vertical-align: top;\n",
       "    }\n",
       "\n",
       "    .dataframe thead th {\n",
       "        text-align: right;\n",
       "    }\n",
       "</style>\n",
       "<table border=\"1\" class=\"dataframe\">\n",
       "  <thead>\n",
       "    <tr style=\"text-align: right;\">\n",
       "      <th></th>\n",
       "      <th>model_name</th>\n",
       "      <th>split</th>\n",
       "      <th>r2</th>\n",
       "      <th>pearson</th>\n",
       "      <th>spearman</th>\n",
       "      <th>reduction</th>\n",
       "      <th>train_size</th>\n",
       "      <th>cv_fold</th>\n",
       "      <th>seq_mode</th>\n",
       "      <th>model_type</th>\n",
       "    </tr>\n",
       "  </thead>\n",
       "  <tbody>\n",
       "    <tr>\n",
       "      <th>0</th>\n",
       "      <td>CNN_cv0_r1.0_regularSeqs</td>\n",
       "      <td>val</td>\n",
       "      <td>0.642166</td>\n",
       "      <td>0.802894</td>\n",
       "      <td>0.802764</td>\n",
       "      <td>1.0</td>\n",
       "      <td>673196</td>\n",
       "      <td>0</td>\n",
       "      <td>regular</td>\n",
       "      <td>CNN</td>\n",
       "    </tr>\n",
       "    <tr>\n",
       "      <th>1</th>\n",
       "      <td>CNN_cv0_r1.0_regularSeqs</td>\n",
       "      <td>test</td>\n",
       "      <td>0.647124</td>\n",
       "      <td>0.805938</td>\n",
       "      <td>0.805468</td>\n",
       "      <td>1.0</td>\n",
       "      <td>673196</td>\n",
       "      <td>0</td>\n",
       "      <td>regular</td>\n",
       "      <td>CNN</td>\n",
       "    </tr>\n",
       "    <tr>\n",
       "      <th>0</th>\n",
       "      <td>CNN_cv0_r1.0_shuffleSeqs</td>\n",
       "      <td>val</td>\n",
       "      <td>0.318991</td>\n",
       "      <td>0.564809</td>\n",
       "      <td>0.568338</td>\n",
       "      <td>1.0</td>\n",
       "      <td>673196</td>\n",
       "      <td>0</td>\n",
       "      <td>shuffle</td>\n",
       "      <td>CNN</td>\n",
       "    </tr>\n",
       "    <tr>\n",
       "      <th>1</th>\n",
       "      <td>CNN_cv0_r1.0_shuffleSeqs</td>\n",
       "      <td>test</td>\n",
       "      <td>0.321579</td>\n",
       "      <td>0.567175</td>\n",
       "      <td>0.570528</td>\n",
       "      <td>1.0</td>\n",
       "      <td>673196</td>\n",
       "      <td>0</td>\n",
       "      <td>shuffle</td>\n",
       "      <td>CNN</td>\n",
       "    </tr>\n",
       "  </tbody>\n",
       "</table>\n",
       "</div>"
      ],
      "text/plain": [
       "                 model_name split        r2   pearson  spearman  reduction  \\\n",
       "0  CNN_cv0_r1.0_regularSeqs   val  0.642166  0.802894  0.802764        1.0   \n",
       "1  CNN_cv0_r1.0_regularSeqs  test  0.647124  0.805938  0.805468        1.0   \n",
       "0  CNN_cv0_r1.0_shuffleSeqs   val  0.318991  0.564809  0.568338        1.0   \n",
       "1  CNN_cv0_r1.0_shuffleSeqs  test  0.321579  0.567175  0.570528        1.0   \n",
       "\n",
       "   train_size  cv_fold seq_mode model_type  \n",
       "0      673196        0  regular        CNN  \n",
       "1      673196        0  regular        CNN  \n",
       "0      673196        0  shuffle        CNN  \n",
       "1      673196        0  shuffle        CNN  "
      ]
     },
     "execution_count": 3,
     "metadata": {},
     "output_type": "execute_result"
    }
   ],
   "source": [
    "df = pd.DataFrame()\n",
    "for f in tsvs:\n",
    "    df_new = pd.read_csv(f'{dirname}/{f}',sep='\\t')\n",
    "    df = pd.concat([df,df_new])\n",
    "    \n",
    "df"
   ]
  },
  {
   "cell_type": "code",
   "execution_count": 4,
   "id": "green-taxation",
   "metadata": {},
   "outputs": [
    {
     "data": {
      "text/plain": [
       "test    2\n",
       "val     2\n",
       "Name: split, dtype: int64"
      ]
     },
     "execution_count": 4,
     "metadata": {},
     "output_type": "execute_result"
    }
   ],
   "source": [
    "df['split'].value_counts()"
   ]
  },
  {
   "cell_type": "code",
   "execution_count": 5,
   "id": "incorporate-colombia",
   "metadata": {},
   "outputs": [],
   "source": [
    "df_test = df[df['split']=='test']\n",
    "df_reg_test = df_test[df_test['seq_mode']=='regular']\n",
    "df_shuff_test = df_test[df_test['seq_mode']=='shuffle']"
   ]
  },
  {
   "cell_type": "code",
   "execution_count": 6,
   "id": "romance-england",
   "metadata": {},
   "outputs": [
    {
     "data": {
      "image/png": "[encoded data removed]",
      "text/plain": [
       "<Figure size 720x360 with 1 Axes>"
      ]
     },
     "metadata": {
      "needs_background": "light"
     },
     "output_type": "display_data"
    }
   ],
   "source": [
    "fig = plt.figure(figsize=(10,5))\n",
    "ax = sns.scatterplot(data=df_reg_test,x='train_size',y='r2',hue='model_type')\n",
    "handles = ax.legend_.legendHandles[:]\n",
    "labels = [text.get_text() for text in ax.legend_.texts][:]\n",
    "\n",
    "sns.lineplot(data=df_reg_test,x='train_size',y='r2',hue='model_type',ci='sd')\n",
    "plt.xscale('log')\n",
    "#plt.xticks([1000,10000,100000,1000000])\n",
    "plt.ylabel(\"r2 score\",fontsize=16)\n",
    "plt.xlabel(\"Train set size\",fontsize=16)\n",
    "\n",
    "plt.legend(handles, labels,loc='lower right')\n",
    "\n",
    "plt.show()"
   ]
  },
  {
   "cell_type": "code",
   "execution_count": 9,
   "id": "opening-motel",
   "metadata": {},
   "outputs": [
    {
     "data": {
      "image/png": "[encoded data removed]",
      "text/plain": [
       "<Figure size 720x360 with 1 Axes>"
      ]
     },
     "metadata": {
      "needs_background": "light"
     },
     "output_type": "display_data"
    }
   ],
   "source": [
    "x_col='reduction'\n",
    "\n",
    "fig = plt.figure(figsize=(10,5))\n",
    "ax = sns.scatterplot(data=df_reg_test,x=x_col,y='r2',hue='model_type')\n",
    "handles = ax.legend_.legendHandles[:]\n",
    "labels = [text.get_text() for text in ax.legend_.texts][:]\n",
    "\n",
    "sns.lineplot(data=df_reg_test,x=x_col,y='r2',hue='model_type',ci='sd')\n",
    "plt.xscale('log')\n",
    "#plt.xticks([1000,10000,100000,1000000])\n",
    "plt.ylabel(\"r2 score\",fontsize=16)\n",
    "plt.xlabel(f\"{x_col} size\",fontsize=16)\n",
    "\n",
    "plt.legend(handles, labels,loc='lower right')\n",
    "\n",
    "plt.show()"
   ]
  },
  {
   "cell_type": "code",
   "execution_count": 10,
   "id": "sixth-disabled",
   "metadata": {},
   "outputs": [
    {
     "data": {
      "text/html": [
       "<div>\n",
       "<style scoped>\n",
       "    .dataframe tbody tr th:only-of-type {\n",
       "        vertical-align: middle;\n",
       "    }\n",
       "\n",
       "    .dataframe tbody tr th {\n",
       "        vertical-align: top;\n",
       "    }\n",
       "\n",
       "    .dataframe thead th {\n",
       "        text-align: right;\n",
       "    }\n",
       "</style>\n",
       "<table border=\"1\" class=\"dataframe\">\n",
       "  <thead>\n",
       "    <tr style=\"text-align: right;\">\n",
       "      <th></th>\n",
       "      <th>reduction</th>\n",
       "      <th>model_type</th>\n",
       "      <th>r2</th>\n",
       "      <th>pearson</th>\n",
       "      <th>spearman</th>\n",
       "      <th>train_size</th>\n",
       "      <th>cv_fold</th>\n",
       "    </tr>\n",
       "  </thead>\n",
       "  <tbody>\n",
       "    <tr>\n",
       "      <th>0</th>\n",
       "      <td>0.025</td>\n",
       "      <td>CNN</td>\n",
       "      <td>0.612914</td>\n",
       "      <td>0.783319</td>\n",
       "      <td>0.789027</td>\n",
       "      <td>16830</td>\n",
       "      <td>0</td>\n",
       "    </tr>\n",
       "    <tr>\n",
       "      <th>1</th>\n",
       "      <td>0.250</td>\n",
       "      <td>CNN</td>\n",
       "      <td>0.647485</td>\n",
       "      <td>0.807160</td>\n",
       "      <td>0.807163</td>\n",
       "      <td>168299</td>\n",
       "      <td>0</td>\n",
       "    </tr>\n",
       "    <tr>\n",
       "      <th>2</th>\n",
       "      <td>1.000</td>\n",
       "      <td>CNN</td>\n",
       "      <td>0.648029</td>\n",
       "      <td>0.808676</td>\n",
       "      <td>0.810266</td>\n",
       "      <td>673196</td>\n",
       "      <td>0</td>\n",
       "    </tr>\n",
       "  </tbody>\n",
       "</table>\n",
       "</div>"
      ],
      "text/plain": [
       "   reduction model_type        r2   pearson  spearman  train_size  cv_fold\n",
       "0      0.025        CNN  0.612914  0.783319  0.789027       16830        0\n",
       "1      0.250        CNN  0.647485  0.807160  0.807163      168299        0\n",
       "2      1.000        CNN  0.648029  0.808676  0.810266      673196        0"
      ]
     },
     "execution_count": 10,
     "metadata": {},
     "output_type": "execute_result"
    }
   ],
   "source": [
    "df_reg_test.groupby(['reduction','model_type']).mean().reset_index()"
   ]
  },
  {
   "cell_type": "code",
   "execution_count": null,
   "id": "married-pacific",
   "metadata": {},
   "outputs": [],
   "source": []
  },
  {
   "cell_type": "code",
   "execution_count": 11,
   "id": "retired-settlement",
   "metadata": {},
   "outputs": [
    {
     "data": {
      "image/png": "[encoded data removed]",
      "text/plain": [
       "<Figure size 720x360 with 1 Axes>"
      ]
     },
     "metadata": {
      "needs_background": "light"
     },
     "output_type": "display_data"
    }
   ],
   "source": [
    "fig = plt.figure(figsize=(10,5))\n",
    "hue_order = ['CNN','biLSTM','CNNLSTM']\n",
    "\n",
    "ax = sns.scatterplot(data=df_reg_test.groupby(['reduction','model_type']).mean().reset_index(),\n",
    "                x='train_size',y='r2',hue='model_type',hue_order=hue_order)\n",
    "\n",
    "handles = ax.legend_.legendHandles[:]\n",
    "labels = [text.get_text() for text in ax.legend_.texts][:]\n",
    "\n",
    "sns.lineplot(data=df_reg_test,\n",
    "             x='train_size',y='r2',hue='model_type',ci='sd',err_style='bars',\n",
    "             alpha=0.5,hue_order=hue_order,err_kws={'capsize':5})\n",
    "\n",
    "plt.xscale('log')\n",
    "plt.xticks([1000,10000,100000,1000000])\n",
    "plt.ylabel(\"r2 score\",fontsize=16)\n",
    "plt.xlabel(\"Training set size\",fontsize=16)\n",
    "plt.legend(handles, labels,loc='lower right')\n",
    "plt.show()"
   ]
  },
  {
   "cell_type": "code",
   "execution_count": 12,
   "id": "verbal-values",
   "metadata": {},
   "outputs": [
    {
     "data": {
      "image/png": "[encoded data removed]",
      "text/plain": [
       "<Figure size 720x360 with 1 Axes>"
      ]
     },
     "metadata": {
      "needs_background": "light"
     },
     "output_type": "display_data"
    }
   ],
   "source": [
    "fig = plt.figure(figsize=(10,5))\n",
    "\n",
    "sns.boxplot(data=df_reg_test,x='model_type',y='r2',hue='reduction',dodge=True)\n",
    "#sns.lineplot(data=df_test,x='train_size',y='r2',hue='model_name',ci='sd')\n",
    "#plt.xscale('log')\n",
    "#plt.xticks([1000,10000,100000,1000000])\n",
    "plt.ylabel(\"r2 score\",fontsize=16)\n",
    "plt.show()"
   ]
  },
  {
   "cell_type": "code",
   "execution_count": null,
   "id": "dramatic-shark",
   "metadata": {},
   "outputs": [],
   "source": []
  },
  {
   "cell_type": "code",
   "execution_count": 13,
   "id": "major-teacher",
   "metadata": {},
   "outputs": [
    {
     "data": {
      "image/png": "[encoded data removed]",
      "text/plain": [
       "<Figure size 720x360 with 1 Axes>"
      ]
     },
     "metadata": {
      "needs_background": "light"
     },
     "output_type": "display_data"
    }
   ],
   "source": [
    "fig = plt.figure(figsize=(10,5))\n",
    "\n",
    "sns.violinplot(data=df_reg_test,x='reduction',y='r2',hue='model_type',dodge=True)\n",
    "#sns.lineplot(data=df_test,x='train_size',y='r2',hue='model_name',ci='sd')\n",
    "#plt.xscale('log')\n",
    "#plt.xticks([1000,10000,100000,1000000])\n",
    "plt.ylabel(\"r2 score\",fontsize=16)\n",
    "plt.xlabel(\"Fraction of dataset\",fontsize=16)\n",
    "\n",
    "plt.show()"
   ]
  },
  {
   "cell_type": "code",
   "execution_count": 14,
   "id": "intellectual-offering",
   "metadata": {},
   "outputs": [
    {
     "data": {
      "image/png": "[encoded data removed]",
      "text/plain": [
       "<Figure size 720x360 with 1 Axes>"
      ]
     },
     "metadata": {
      "needs_background": "light"
     },
     "output_type": "display_data"
    }
   ],
   "source": [
    "fig = plt.figure(figsize=(10,5))\n",
    "ax = sns.violinplot(data=df_reg_test,x='reduction',y='r2',hue='model_type',dodge=True,legend=False)\n",
    "plt.setp(ax.collections,alpha=0.3)\n",
    "\n",
    "handles = ax.legend_.legendHandles\n",
    "labels = [text.get_text() for text in ax.legend_.texts]\n",
    "\n",
    "sns.swarmplot(data=df_reg_test,x='reduction',y='r2',hue='model_type',\n",
    "              dodge=True,edgecolor='black',linewidth=1,ax=ax,size=10)\n",
    "\n",
    "plt.legend(handles, labels,loc='lower right')\n",
    "\n",
    "plt.ylabel(\"r2 score\",fontsize=16)\n",
    "plt.xlabel(\"Fraction of dataset\",fontsize=16)\n",
    "plt.show()"
   ]
  },
  {
   "cell_type": "code",
   "execution_count": 15,
   "id": "nutritional-bristol",
   "metadata": {},
   "outputs": [
    {
     "data": {
      "image/png": "[encoded data removed]",
      "text/plain": [
       "<Figure size 720x360 with 1 Axes>"
      ]
     },
     "metadata": {
      "needs_background": "light"
     },
     "output_type": "display_data"
    }
   ],
   "source": [
    "metric = 'pearson'\n",
    "fig = plt.figure(figsize=(10,5))\n",
    "ax = sns.violinplot(data=df_reg_test,x='reduction',y=metric,hue='model_type',dodge=True,legend=False)\n",
    "plt.setp(ax.collections,alpha=0.3)\n",
    "\n",
    "handles = ax.legend_.legendHandles\n",
    "labels = [text.get_text() for text in ax.legend_.texts]\n",
    "\n",
    "sns.swarmplot(data=df_reg_test,x='reduction',y=metric,hue='model_type',\n",
    "              dodge=True,edgecolor='black',linewidth=1,ax=ax,size=10)\n",
    "\n",
    "plt.legend(handles, labels,loc='lower right')\n",
    "\n",
    "plt.ylabel(f'{metric}',fontsize=16)\n",
    "plt.xlabel(\"Fraction of dataset\",fontsize=16)\n",
    "plt.show()"
   ]
  },
  {
   "cell_type": "code",
   "execution_count": 7,
   "id": "solved-occasion",
   "metadata": {
    "scrolled": true
   },
   "outputs": [
    {
     "data": {
      "image/png": "[encoded data removed]",
      "text/plain": [
       "<Figure size 1296x360 with 2 Axes>"
      ]
     },
     "metadata": {
      "needs_background": "light"
     },
     "output_type": "display_data"
    }
   ],
   "source": [
    "hue_order = ['CNN','biLSTM','CNNLSTM']\n",
    "\n",
    "fig,axes = plt.subplots(1,2,figsize=(18,5))\n",
    "\n",
    "x_col = 'train_size'\n",
    "\n",
    "# Regular sequences\n",
    "sns.violinplot(data=df_reg_test,x=x_col,y='r2',hue='model_type',\n",
    "               dodge=True,legend=False,ax=axes[0], hue_order=hue_order)\n",
    "plt.setp(axes[0].collections,alpha=0.3)\n",
    "\n",
    "handles = axes[0].legend_.legendHandles\n",
    "labels = [text.get_text() for text in axes[0].legend_.texts]\n",
    "\n",
    "sns.swarmplot(data=df_reg_test,x=x_col,y='r2',hue='model_type',\n",
    "              dodge=True,edgecolor='black',linewidth=1,ax=axes[0],hue_order=hue_order,size=10)\n",
    "\n",
    "axes[0].legend(handles, labels,loc='upper left')\n",
    "axes[0].set_ylim(-0.1,1.0)\n",
    "\n",
    "axes[0].set_ylabel(\"r2 score\",fontsize=16)\n",
    "axes[0].set_xlabel(f\"{x_col}\",fontsize=16)\n",
    "axes[0].set_title(\"Regular Sequences\")\n",
    "\n",
    "# Shuffled sequences\n",
    "sns.violinplot(data=df_shuff_test,x=x_col,y='r2',hue='model_type',\n",
    "               dodge=True,legend=False,ax=axes[1], hue_order=hue_order)\n",
    "plt.setp(axes[1].collections,alpha=0.3)\n",
    "\n",
    "handles = axes[1].legend_.legendHandles\n",
    "labels = [text.get_text() for text in axes[1].legend_.texts]\n",
    "\n",
    "sns.swarmplot(data=df_shuff_test,x=x_col,y='r2',hue='model_type',\n",
    "              dodge=True,edgecolor='black',linewidth=1,ax=axes[1], hue_order=hue_order,size=10)\n",
    "axes[1].legend(handles, labels,loc='upper left')\n",
    "axes[1].set_ylim(-0.1,1.0)\n",
    "\n",
    "\n",
    "axes[1].set_ylabel(\"r2 score\",fontsize=16)\n",
    "axes[1].set_xlabel(f\"{x_col}\",fontsize=16)\n",
    "axes[1].set_title(\"Shuffled Sequences\")\n",
    "plt.show()"
   ]
  },
  {
   "cell_type": "code",
   "execution_count": 3,
   "id": "spatial-estimate",
   "metadata": {},
   "outputs": [
    {
     "data": {
      "text/html": [
       "<div>\n",
       "<style scoped>\n",
       "    .dataframe tbody tr th:only-of-type {\n",
       "        vertical-align: middle;\n",
       "    }\n",
       "\n",
       "    .dataframe tbody tr th {\n",
       "        vertical-align: top;\n",
       "    }\n",
       "\n",
       "    .dataframe thead th {\n",
       "        text-align: right;\n",
       "    }\n",
       "</style>\n",
       "<table border=\"1\" class=\"dataframe\">\n",
       "  <thead>\n",
       "    <tr style=\"text-align: right;\">\n",
       "      <th></th>\n",
       "      <th>og_index</th>\n",
       "      <th>truth</th>\n",
       "      <th>pred</th>\n",
       "    </tr>\n",
       "  </thead>\n",
       "  <tbody>\n",
       "    <tr>\n",
       "      <th>0</th>\n",
       "      <td>8895955</td>\n",
       "      <td>5.0</td>\n",
       "      <td>5.405279</td>\n",
       "    </tr>\n",
       "    <tr>\n",
       "      <th>1</th>\n",
       "      <td>3891383</td>\n",
       "      <td>5.0</td>\n",
       "      <td>5.836980</td>\n",
       "    </tr>\n",
       "    <tr>\n",
       "      <th>2</th>\n",
       "      <td>18356667</td>\n",
       "      <td>6.0</td>\n",
       "      <td>5.839011</td>\n",
       "    </tr>\n",
       "    <tr>\n",
       "      <th>3</th>\n",
       "      <td>17185025</td>\n",
       "      <td>5.0</td>\n",
       "      <td>4.699891</td>\n",
       "    </tr>\n",
       "    <tr>\n",
       "      <th>4</th>\n",
       "      <td>14534653</td>\n",
       "      <td>11.0</td>\n",
       "      <td>8.720620</td>\n",
       "    </tr>\n",
       "    <tr>\n",
       "      <th>...</th>\n",
       "      <td>...</td>\n",
       "      <td>...</td>\n",
       "      <td>...</td>\n",
       "    </tr>\n",
       "    <tr>\n",
       "      <th>210369</th>\n",
       "      <td>8405019</td>\n",
       "      <td>14.0</td>\n",
       "      <td>11.548160</td>\n",
       "    </tr>\n",
       "    <tr>\n",
       "      <th>210370</th>\n",
       "      <td>8414940</td>\n",
       "      <td>3.0</td>\n",
       "      <td>5.713961</td>\n",
       "    </tr>\n",
       "    <tr>\n",
       "      <th>210371</th>\n",
       "      <td>1610914</td>\n",
       "      <td>11.0</td>\n",
       "      <td>9.383416</td>\n",
       "    </tr>\n",
       "    <tr>\n",
       "      <th>210372</th>\n",
       "      <td>15697517</td>\n",
       "      <td>13.0</td>\n",
       "      <td>9.853612</td>\n",
       "    </tr>\n",
       "    <tr>\n",
       "      <th>210373</th>\n",
       "      <td>16422137</td>\n",
       "      <td>11.0</td>\n",
       "      <td>8.265206</td>\n",
       "    </tr>\n",
       "  </tbody>\n",
       "</table>\n",
       "<p>210374 rows × 3 columns</p>\n",
       "</div>"
      ],
      "text/plain": [
       "        og_index  truth       pred\n",
       "0        8895955    5.0   5.405279\n",
       "1        3891383    5.0   5.836980\n",
       "2       18356667    6.0   5.839011\n",
       "3       17185025    5.0   4.699891\n",
       "4       14534653   11.0   8.720620\n",
       "...          ...    ...        ...\n",
       "210369   8405019   14.0  11.548160\n",
       "210370   8414940    3.0   5.713961\n",
       "210371   1610914   11.0   9.383416\n",
       "210372  15697517   13.0   9.853612\n",
       "210373  16422137   11.0   8.265206\n",
       "\n",
       "[210374 rows x 3 columns]"
      ]
     },
     "execution_count": 3,
     "metadata": {},
     "output_type": "execute_result"
    }
   ],
   "source": [
    "pred_df = pd.read_csv('../hyak_scp_dump/out_evo_reduction/CNN_cv0_r1.0_regularSeqs_test_preds.tsv',sep='\\t')\n",
    "pred_df"
   ]
  },
  {
   "cell_type": "code",
   "execution_count": 8,
   "id": "wicked-military",
   "metadata": {
    "scrolled": true
   },
   "outputs": [],
   "source": [
    "# x = pred_df['truth'].values\n",
    "# y = pred_df['pred'].values\n",
    "\n",
    "# r = scipy.stats.pearsonr(x ,y )\n",
    "# sns.regplot(x=x ,y=y ,\n",
    "#             scatter_kws= {'s':1,'linewidth':0, 'rasterized':True} ,\n",
    "#             line_kws= {'linewidth':2} ,\n",
    "#             color= '#0868ac', robust = 1 )"
   ]
  },
  {
   "cell_type": "code",
   "execution_count": 9,
   "id": "amino-endorsement",
   "metadata": {},
   "outputs": [
    {
     "name": "stderr",
     "output_type": "stream",
     "text": [
      "/home/ubuntu/anaconda3/envs/torchp/lib/python3.7/site-packages/mpl_scatter_density/generic_density_artist.py:77: RuntimeWarning: All-NaN slice encountered\n",
      "  vmin = self._density_vmin(array)\n",
      "/home/ubuntu/anaconda3/envs/torchp/lib/python3.7/site-packages/mpl_scatter_density/generic_density_artist.py:82: RuntimeWarning: All-NaN slice encountered\n",
      "  vmax = self._density_vmax(array)\n"
     ]
    },
    {
     "data": {
      "image/png": "[encoded data removed]",
      "text/plain": [
       "<Figure size 432x288 with 2 Axes>"
      ]
     },
     "metadata": {
      "needs_background": "light"
     },
     "output_type": "display_data"
    }
   ],
   "source": [
    "import mpl_scatter_density # adds projection='scatter_density'\n",
    "from matplotlib.colors import LinearSegmentedColormap\n",
    "\n",
    "# \"Viridis-like\" colormap with white background\n",
    "white_viridis = LinearSegmentedColormap.from_list('white_viridis', [\n",
    "    (0, '#ffffff'),\n",
    "    (1e-20, '#440053'),\n",
    "    (0.2, '#404388'),\n",
    "    (0.4, '#2a788e'),\n",
    "    (0.6, '#21a784'),\n",
    "    (0.8, '#78d151'),\n",
    "    (1, '#fde624'),\n",
    "], N=256)\n",
    "\n",
    "def using_mpl_scatter_density(fig, x, y):\n",
    "    ax = fig.add_subplot(1, 1, 1, projection='scatter_density')\n",
    "    density = ax.scatter_density(x, y, cmap=white_viridis)\n",
    "    fig.colorbar(density, label='Number of points per pixel')\n",
    "\n",
    "x = pred_df['truth'].values\n",
    "y = pred_df['pred'].values\n",
    "fig = plt.figure()\n",
    "using_mpl_scatter_density(fig, x, y)\n",
    "plt.show()"
   ]
  },
  {
   "cell_type": "code",
   "execution_count": 10,
   "id": "sitting-daily",
   "metadata": {},
   "outputs": [
    {
     "data": {
      "text/plain": [
       "(0.8059381525328746, 0.0)"
      ]
     },
     "execution_count": 10,
     "metadata": {},
     "output_type": "execute_result"
    }
   ],
   "source": [
    "scipy.stats.pearsonr(x ,y )\n"
   ]
  },
  {
   "cell_type": "markdown",
   "id": "eight-meaning",
   "metadata": {},
   "source": [
    "## Mmk, let's load up the model"
   ]
  },
  {
   "cell_type": "code",
   "execution_count": 11,
   "id": "black-study",
   "metadata": {},
   "outputs": [
    {
     "data": {
      "text/html": [
       "<div>\n",
       "<style scoped>\n",
       "    .dataframe tbody tr th:only-of-type {\n",
       "        vertical-align: middle;\n",
       "    }\n",
       "\n",
       "    .dataframe tbody tr th {\n",
       "        vertical-align: top;\n",
       "    }\n",
       "\n",
       "    .dataframe thead th {\n",
       "        text-align: right;\n",
       "    }\n",
       "</style>\n",
       "<table border=\"1\" class=\"dataframe\">\n",
       "  <thead>\n",
       "    <tr style=\"text-align: right;\">\n",
       "      <th></th>\n",
       "      <th>og_index</th>\n",
       "      <th>truth</th>\n",
       "      <th>pred</th>\n",
       "    </tr>\n",
       "  </thead>\n",
       "  <tbody>\n",
       "    <tr>\n",
       "      <th>0</th>\n",
       "      <td>8895955</td>\n",
       "      <td>5.0</td>\n",
       "      <td>5.405279</td>\n",
       "    </tr>\n",
       "    <tr>\n",
       "      <th>1</th>\n",
       "      <td>3891383</td>\n",
       "      <td>5.0</td>\n",
       "      <td>5.836980</td>\n",
       "    </tr>\n",
       "    <tr>\n",
       "      <th>2</th>\n",
       "      <td>18356667</td>\n",
       "      <td>6.0</td>\n",
       "      <td>5.839011</td>\n",
       "    </tr>\n",
       "    <tr>\n",
       "      <th>3</th>\n",
       "      <td>17185025</td>\n",
       "      <td>5.0</td>\n",
       "      <td>4.699891</td>\n",
       "    </tr>\n",
       "    <tr>\n",
       "      <th>4</th>\n",
       "      <td>14534653</td>\n",
       "      <td>11.0</td>\n",
       "      <td>8.720620</td>\n",
       "    </tr>\n",
       "    <tr>\n",
       "      <th>...</th>\n",
       "      <td>...</td>\n",
       "      <td>...</td>\n",
       "      <td>...</td>\n",
       "    </tr>\n",
       "    <tr>\n",
       "      <th>210369</th>\n",
       "      <td>8405019</td>\n",
       "      <td>14.0</td>\n",
       "      <td>11.548160</td>\n",
       "    </tr>\n",
       "    <tr>\n",
       "      <th>210370</th>\n",
       "      <td>8414940</td>\n",
       "      <td>3.0</td>\n",
       "      <td>5.713961</td>\n",
       "    </tr>\n",
       "    <tr>\n",
       "      <th>210371</th>\n",
       "      <td>1610914</td>\n",
       "      <td>11.0</td>\n",
       "      <td>9.383416</td>\n",
       "    </tr>\n",
       "    <tr>\n",
       "      <th>210372</th>\n",
       "      <td>15697517</td>\n",
       "      <td>13.0</td>\n",
       "      <td>9.853612</td>\n",
       "    </tr>\n",
       "    <tr>\n",
       "      <th>210373</th>\n",
       "      <td>16422137</td>\n",
       "      <td>11.0</td>\n",
       "      <td>8.265206</td>\n",
       "    </tr>\n",
       "  </tbody>\n",
       "</table>\n",
       "<p>210374 rows × 3 columns</p>\n",
       "</div>"
      ],
      "text/plain": [
       "        og_index  truth       pred\n",
       "0        8895955    5.0   5.405279\n",
       "1        3891383    5.0   5.836980\n",
       "2       18356667    6.0   5.839011\n",
       "3       17185025    5.0   4.699891\n",
       "4       14534653   11.0   8.720620\n",
       "...          ...    ...        ...\n",
       "210369   8405019   14.0  11.548160\n",
       "210370   8414940    3.0   5.713961\n",
       "210371   1610914   11.0   9.383416\n",
       "210372  15697517   13.0   9.853612\n",
       "210373  16422137   11.0   8.265206\n",
       "\n",
       "[210374 rows x 3 columns]"
      ]
     },
     "execution_count": 11,
     "metadata": {},
     "output_type": "execute_result"
    }
   ],
   "source": [
    "pred_df"
   ]
  },
  {
   "cell_type": "code",
   "execution_count": 4,
   "id": "known-ordinary",
   "metadata": {},
   "outputs": [],
   "source": [
    "test_locs = pred_df['og_index'].values"
   ]
  },
  {
   "cell_type": "code",
   "execution_count": 5,
   "id": "eight-tobago",
   "metadata": {},
   "outputs": [
    {
     "data": {
      "text/html": [
       "<div>\n",
       "<style scoped>\n",
       "    .dataframe tbody tr th:only-of-type {\n",
       "        vertical-align: middle;\n",
       "    }\n",
       "\n",
       "    .dataframe tbody tr th {\n",
       "        vertical-align: top;\n",
       "    }\n",
       "\n",
       "    .dataframe thead th {\n",
       "        text-align: right;\n",
       "    }\n",
       "</style>\n",
       "<table border=\"1\" class=\"dataframe\">\n",
       "  <thead>\n",
       "    <tr style=\"text-align: right;\">\n",
       "      <th></th>\n",
       "      <th>og_index</th>\n",
       "      <th>seq</th>\n",
       "      <th>expression</th>\n",
       "      <th>shuffled_seq</th>\n",
       "    </tr>\n",
       "  </thead>\n",
       "  <tbody>\n",
       "    <tr>\n",
       "      <th>0</th>\n",
       "      <td>16549025</td>\n",
       "      <td>NNNNNNNNNNNNNNNNNNNNNNNNNNNNNNNNNNNNNNNNNNNNNN...</td>\n",
       "      <td>9.000000</td>\n",
       "      <td>NNNNNNNNNNNNNNNNNNNNNNNNNNNNNNNNNNNNNNNNNNNNNN...</td>\n",
       "    </tr>\n",
       "    <tr>\n",
       "      <th>1</th>\n",
       "      <td>8215705</td>\n",
       "      <td>NNNNNNNNNNNNNNNNNNNNNNNNNNNNNNNNNNNNNNNNNNNNNN...</td>\n",
       "      <td>10.000000</td>\n",
       "      <td>NNNNNNNNNNNNNNNNNNNNNNNNNNNNNNNNNNNNNNNNNNNNNN...</td>\n",
       "    </tr>\n",
       "    <tr>\n",
       "      <th>2</th>\n",
       "      <td>11033062</td>\n",
       "      <td>NNNNNNNNNNNNNNNNNNNNNNNNNNNNNNNNNNNNNNNNNNNNNN...</td>\n",
       "      <td>14.000000</td>\n",
       "      <td>NNNNNNNNNNNNNNNNNNNNNNNNNNNNNNNNNNNNNNNNNNNNNN...</td>\n",
       "    </tr>\n",
       "    <tr>\n",
       "      <th>3</th>\n",
       "      <td>17288351</td>\n",
       "      <td>NNNNNNNNNNNNNNNNNNNNNNNNNNNNNNNNNNNNNNNNNNNNNN...</td>\n",
       "      <td>13.000000</td>\n",
       "      <td>NNNNNNNNNNNNNNNNNNNNNNNNNNNNNNNNNNNNNNNNNNNNNN...</td>\n",
       "    </tr>\n",
       "    <tr>\n",
       "      <th>4</th>\n",
       "      <td>4935440</td>\n",
       "      <td>NNNNNNNNNNNNNNNNNNNNNNNNNNNNNNNNNNNNNNNNNNNNNN...</td>\n",
       "      <td>9.737894</td>\n",
       "      <td>NNNNNNNNNNNNNNNNNNNNNNNNNNNNNNNNNNNNNNNNNNNNNN...</td>\n",
       "    </tr>\n",
       "    <tr>\n",
       "      <th>...</th>\n",
       "      <td>...</td>\n",
       "      <td>...</td>\n",
       "      <td>...</td>\n",
       "      <td>...</td>\n",
       "    </tr>\n",
       "    <tr>\n",
       "      <th>1051865</th>\n",
       "      <td>13227419</td>\n",
       "      <td>NNNNNNNNNNNNNNNNNNNNNNNNNNNNNNNNNNNNNNNNNNNNNN...</td>\n",
       "      <td>9.000000</td>\n",
       "      <td>NNNNNNNNNNNNNNNNNNNNNNNNNNNNNNNNNNNNNNNNNNNNNN...</td>\n",
       "    </tr>\n",
       "    <tr>\n",
       "      <th>1051866</th>\n",
       "      <td>7788040</td>\n",
       "      <td>NNNNNNNNNNNNNNNNNNNNNNNNNNNNNNNNNNNNNNNNNNNNNN...</td>\n",
       "      <td>14.000000</td>\n",
       "      <td>NNNNNNNNNNNNNNNNNNNNNNNNNNNNNNNNNNNNNNNNNNNNNN...</td>\n",
       "    </tr>\n",
       "    <tr>\n",
       "      <th>1051867</th>\n",
       "      <td>10820273</td>\n",
       "      <td>NNNNNNNNNNNNNNNNNNNNNNNNNNNNNNNNNNNNNNNNNNNNNN...</td>\n",
       "      <td>3.000000</td>\n",
       "      <td>NNNNNNNNNNNNNNNNNNNNNNNNNNNNNNNNNNNNNNNNNNNNNN...</td>\n",
       "    </tr>\n",
       "    <tr>\n",
       "      <th>1051868</th>\n",
       "      <td>10612659</td>\n",
       "      <td>NNNNNNNNNNNNNNNNNNNNNNNNNNNNNNNNNNNNNNNNNNNNNN...</td>\n",
       "      <td>13.000000</td>\n",
       "      <td>NNNNNNNNNNNNNNNNNNNNNNNNNNNNNNNNNNNNNNNNNNNNNN...</td>\n",
       "    </tr>\n",
       "    <tr>\n",
       "      <th>1051869</th>\n",
       "      <td>38280</td>\n",
       "      <td>NNNNNNNNNNNNNNNNNNNNNNNNNNNNNNNNNNNNNNNNNNNNNN...</td>\n",
       "      <td>12.000000</td>\n",
       "      <td>NNNNNNNNNNNNNNNNNNNNNNNNNNNNNNNNNNNNNNNNNNNNNN...</td>\n",
       "    </tr>\n",
       "  </tbody>\n",
       "</table>\n",
       "<p>1051870 rows × 4 columns</p>\n",
       "</div>"
      ],
      "text/plain": [
       "         og_index                                                seq  \\\n",
       "0        16549025  NNNNNNNNNNNNNNNNNNNNNNNNNNNNNNNNNNNNNNNNNNNNNN...   \n",
       "1         8215705  NNNNNNNNNNNNNNNNNNNNNNNNNNNNNNNNNNNNNNNNNNNNNN...   \n",
       "2        11033062  NNNNNNNNNNNNNNNNNNNNNNNNNNNNNNNNNNNNNNNNNNNNNN...   \n",
       "3        17288351  NNNNNNNNNNNNNNNNNNNNNNNNNNNNNNNNNNNNNNNNNNNNNN...   \n",
       "4         4935440  NNNNNNNNNNNNNNNNNNNNNNNNNNNNNNNNNNNNNNNNNNNNNN...   \n",
       "...           ...                                                ...   \n",
       "1051865  13227419  NNNNNNNNNNNNNNNNNNNNNNNNNNNNNNNNNNNNNNNNNNNNNN...   \n",
       "1051866   7788040  NNNNNNNNNNNNNNNNNNNNNNNNNNNNNNNNNNNNNNNNNNNNNN...   \n",
       "1051867  10820273  NNNNNNNNNNNNNNNNNNNNNNNNNNNNNNNNNNNNNNNNNNNNNN...   \n",
       "1051868  10612659  NNNNNNNNNNNNNNNNNNNNNNNNNNNNNNNNNNNNNNNNNNNNNN...   \n",
       "1051869     38280  NNNNNNNNNNNNNNNNNNNNNNNNNNNNNNNNNNNNNNNNNNNNNN...   \n",
       "\n",
       "         expression                                       shuffled_seq  \n",
       "0          9.000000  NNNNNNNNNNNNNNNNNNNNNNNNNNNNNNNNNNNNNNNNNNNNNN...  \n",
       "1         10.000000  NNNNNNNNNNNNNNNNNNNNNNNNNNNNNNNNNNNNNNNNNNNNNN...  \n",
       "2         14.000000  NNNNNNNNNNNNNNNNNNNNNNNNNNNNNNNNNNNNNNNNNNNNNN...  \n",
       "3         13.000000  NNNNNNNNNNNNNNNNNNNNNNNNNNNNNNNNNNNNNNNNNNNNNN...  \n",
       "4          9.737894  NNNNNNNNNNNNNNNNNNNNNNNNNNNNNNNNNNNNNNNNNNNNNN...  \n",
       "...             ...                                                ...  \n",
       "1051865    9.000000  NNNNNNNNNNNNNNNNNNNNNNNNNNNNNNNNNNNNNNNNNNNNNN...  \n",
       "1051866   14.000000  NNNNNNNNNNNNNNNNNNNNNNNNNNNNNNNNNNNNNNNNNNNNNN...  \n",
       "1051867    3.000000  NNNNNNNNNNNNNNNNNNNNNNNNNNNNNNNNNNNNNNNNNNNNNN...  \n",
       "1051868   13.000000  NNNNNNNNNNNNNNNNNNNNNNNNNNNNNNNNNNNNNNNNNNNNNN...  \n",
       "1051869   12.000000  NNNNNNNNNNNNNNNNNNNNNNNNNNNNNNNNNNNNNNNNNNNNNN...  \n",
       "\n",
       "[1051870 rows x 4 columns]"
      ]
     },
     "execution_count": 5,
     "metadata": {},
     "output_type": "execute_result"
    }
   ],
   "source": [
    "df = pd.read_csv('data/defined_media_traning_data_0.05sample.txt',sep='\\t')\n",
    "df"
   ]
  },
  {
   "cell_type": "code",
   "execution_count": 6,
   "id": "quiet-croatia",
   "metadata": {},
   "outputs": [
    {
     "data": {
      "text/html": [
       "<div>\n",
       "<style scoped>\n",
       "    .dataframe tbody tr th:only-of-type {\n",
       "        vertical-align: middle;\n",
       "    }\n",
       "\n",
       "    .dataframe tbody tr th {\n",
       "        vertical-align: top;\n",
       "    }\n",
       "\n",
       "    .dataframe thead th {\n",
       "        text-align: right;\n",
       "    }\n",
       "</style>\n",
       "<table border=\"1\" class=\"dataframe\">\n",
       "  <thead>\n",
       "    <tr style=\"text-align: right;\">\n",
       "      <th></th>\n",
       "      <th>og_index</th>\n",
       "      <th>seq</th>\n",
       "      <th>expression</th>\n",
       "      <th>shuffled_seq</th>\n",
       "    </tr>\n",
       "  </thead>\n",
       "  <tbody>\n",
       "    <tr>\n",
       "      <th>6</th>\n",
       "      <td>1960648</td>\n",
       "      <td>NNNNNNNNNNNNNNNNNNNNNNNNNNNNNNNNNNNNNNNNNNNNNN...</td>\n",
       "      <td>5.000000</td>\n",
       "      <td>NNNNNNNNNNNNNNNNNNNNNNNNNNNNNNNNNNNNNNNNNNNNNN...</td>\n",
       "    </tr>\n",
       "    <tr>\n",
       "      <th>9</th>\n",
       "      <td>8723130</td>\n",
       "      <td>NNNNNNNNNNNNNNNNNNNNNNNNNNNNNNNNNNNNNNNNNNNNNN...</td>\n",
       "      <td>15.000000</td>\n",
       "      <td>NNNNNNNNNNNNNNNNNNNNNNNNNNNNNNNNNNNNNNNNNNNNNN...</td>\n",
       "    </tr>\n",
       "    <tr>\n",
       "      <th>15</th>\n",
       "      <td>10357127</td>\n",
       "      <td>NNNNNNNNNNNNNNNNNNNNNNNNNNNNNNNNNNNNNNNNNNNNNN...</td>\n",
       "      <td>13.000000</td>\n",
       "      <td>NNNNNNNNNNNNNNNNNNNNNNNNNNNNNNNNNNNNNNNNNNNNNN...</td>\n",
       "    </tr>\n",
       "    <tr>\n",
       "      <th>37</th>\n",
       "      <td>1593368</td>\n",
       "      <td>NNNNNNNNNNNNNNNNNNNNNNNNNNNNNNNNNNNNNNNNNNNNNN...</td>\n",
       "      <td>14.000000</td>\n",
       "      <td>NNNNNNNNNNNNNNNNNNNNNNNNNNNNNNNNNNNNNNNNNNNNNN...</td>\n",
       "    </tr>\n",
       "    <tr>\n",
       "      <th>39</th>\n",
       "      <td>10326003</td>\n",
       "      <td>NNNNNNNNNNNNNNNNNNNNNNNNNNNNNNNNNNNNNNNNNNNNNN...</td>\n",
       "      <td>14.000000</td>\n",
       "      <td>NNNNNNNNNNNNNNNNNNNNNNNNNNNNNNNNNNNNNNNNNNNNNN...</td>\n",
       "    </tr>\n",
       "    <tr>\n",
       "      <th>...</th>\n",
       "      <td>...</td>\n",
       "      <td>...</td>\n",
       "      <td>...</td>\n",
       "      <td>...</td>\n",
       "    </tr>\n",
       "    <tr>\n",
       "      <th>1051855</th>\n",
       "      <td>6415543</td>\n",
       "      <td>NNNNNNNNNNNNNNNNNNNNNNNNNNNNNNNNNNNNNNNNNNNNNN...</td>\n",
       "      <td>8.000000</td>\n",
       "      <td>NNNNNNNNNNNNNNNNNNNNNNNNNNNNNNNNNNNNNNNNNNNNNN...</td>\n",
       "    </tr>\n",
       "    <tr>\n",
       "      <th>1051857</th>\n",
       "      <td>6693165</td>\n",
       "      <td>NNNNNNNNNNNNNNNNNNNNNNNNNNNNNNNNNNNNNNNNNNNNNN...</td>\n",
       "      <td>10.777596</td>\n",
       "      <td>NNNNNNNNNNNNNNNNNNNNNNNNNNNNNNNNNNNNNNNNNNNNNN...</td>\n",
       "    </tr>\n",
       "    <tr>\n",
       "      <th>1051864</th>\n",
       "      <td>9239763</td>\n",
       "      <td>NNNNNNNNNNNNNNNNNNNNNNNNNNNNNNNNNNNNNNNNNNNNNN...</td>\n",
       "      <td>8.000000</td>\n",
       "      <td>NNNNNNNNNNNNNNNNNNNNNNNNNNNNNNNNNNNNNNNNNNNNNN...</td>\n",
       "    </tr>\n",
       "    <tr>\n",
       "      <th>1051867</th>\n",
       "      <td>10820273</td>\n",
       "      <td>NNNNNNNNNNNNNNNNNNNNNNNNNNNNNNNNNNNNNNNNNNNNNN...</td>\n",
       "      <td>3.000000</td>\n",
       "      <td>NNNNNNNNNNNNNNNNNNNNNNNNNNNNNNNNNNNNNNNNNNNNNN...</td>\n",
       "    </tr>\n",
       "    <tr>\n",
       "      <th>1051869</th>\n",
       "      <td>38280</td>\n",
       "      <td>NNNNNNNNNNNNNNNNNNNNNNNNNNNNNNNNNNNNNNNNNNNNNN...</td>\n",
       "      <td>12.000000</td>\n",
       "      <td>NNNNNNNNNNNNNNNNNNNNNNNNNNNNNNNNNNNNNNNNNNNNNN...</td>\n",
       "    </tr>\n",
       "  </tbody>\n",
       "</table>\n",
       "<p>210374 rows × 4 columns</p>\n",
       "</div>"
      ],
      "text/plain": [
       "         og_index                                                seq  \\\n",
       "6         1960648  NNNNNNNNNNNNNNNNNNNNNNNNNNNNNNNNNNNNNNNNNNNNNN...   \n",
       "9         8723130  NNNNNNNNNNNNNNNNNNNNNNNNNNNNNNNNNNNNNNNNNNNNNN...   \n",
       "15       10357127  NNNNNNNNNNNNNNNNNNNNNNNNNNNNNNNNNNNNNNNNNNNNNN...   \n",
       "37        1593368  NNNNNNNNNNNNNNNNNNNNNNNNNNNNNNNNNNNNNNNNNNNNNN...   \n",
       "39       10326003  NNNNNNNNNNNNNNNNNNNNNNNNNNNNNNNNNNNNNNNNNNNNNN...   \n",
       "...           ...                                                ...   \n",
       "1051855   6415543  NNNNNNNNNNNNNNNNNNNNNNNNNNNNNNNNNNNNNNNNNNNNNN...   \n",
       "1051857   6693165  NNNNNNNNNNNNNNNNNNNNNNNNNNNNNNNNNNNNNNNNNNNNNN...   \n",
       "1051864   9239763  NNNNNNNNNNNNNNNNNNNNNNNNNNNNNNNNNNNNNNNNNNNNNN...   \n",
       "1051867  10820273  NNNNNNNNNNNNNNNNNNNNNNNNNNNNNNNNNNNNNNNNNNNNNN...   \n",
       "1051869     38280  NNNNNNNNNNNNNNNNNNNNNNNNNNNNNNNNNNNNNNNNNNNNNN...   \n",
       "\n",
       "         expression                                       shuffled_seq  \n",
       "6          5.000000  NNNNNNNNNNNNNNNNNNNNNNNNNNNNNNNNNNNNNNNNNNNNNN...  \n",
       "9         15.000000  NNNNNNNNNNNNNNNNNNNNNNNNNNNNNNNNNNNNNNNNNNNNNN...  \n",
       "15        13.000000  NNNNNNNNNNNNNNNNNNNNNNNNNNNNNNNNNNNNNNNNNNNNNN...  \n",
       "37        14.000000  NNNNNNNNNNNNNNNNNNNNNNNNNNNNNNNNNNNNNNNNNNNNNN...  \n",
       "39        14.000000  NNNNNNNNNNNNNNNNNNNNNNNNNNNNNNNNNNNNNNNNNNNNNN...  \n",
       "...             ...                                                ...  \n",
       "1051855    8.000000  NNNNNNNNNNNNNNNNNNNNNNNNNNNNNNNNNNNNNNNNNNNNNN...  \n",
       "1051857   10.777596  NNNNNNNNNNNNNNNNNNNNNNNNNNNNNNNNNNNNNNNNNNNNNN...  \n",
       "1051864    8.000000  NNNNNNNNNNNNNNNNNNNNNNNNNNNNNNNNNNNNNNNNNNNNNN...  \n",
       "1051867    3.000000  NNNNNNNNNNNNNNNNNNNNNNNNNNNNNNNNNNNNNNNNNNNNNN...  \n",
       "1051869   12.000000  NNNNNNNNNNNNNNNNNNNNNNNNNNNNNNNNNNNNNNNNNNNNNN...  \n",
       "\n",
       "[210374 rows x 4 columns]"
      ]
     },
     "execution_count": 6,
     "metadata": {},
     "output_type": "execute_result"
    }
   ],
   "source": [
    "df = df[df['og_index'].isin(test_locs)]\n",
    "df"
   ]
  },
  {
   "cell_type": "code",
   "execution_count": 7,
   "id": "elect-penalty",
   "metadata": {},
   "outputs": [],
   "source": [
    "split_dfs = {\n",
    "    'test':df.sample(frac=0.25),   \n",
    "}"
   ]
  },
  {
   "cell_type": "code",
   "execution_count": 8,
   "id": "mobile-world",
   "metadata": {},
   "outputs": [
    {
     "data": {
      "text/plain": [
       "300"
      ]
     },
     "execution_count": 8,
     "metadata": {},
     "output_type": "execute_result"
    }
   ],
   "source": [
    "seq_len = len(df['seq'].values[0])\n",
    "seq_len"
   ]
  },
  {
   "cell_type": "markdown",
   "id": "promising-undergraduate",
   "metadata": {},
   "source": [
    "# Restart"
   ]
  },
  {
   "cell_type": "code",
   "execution_count": 2,
   "id": "average-liquid",
   "metadata": {},
   "outputs": [
    {
     "data": {
      "text/plain": [
       "device(type='cuda')"
      ]
     },
     "execution_count": 2,
     "metadata": {},
     "output_type": "execute_result"
    }
   ],
   "source": [
    "import torch\n",
    "from torch import nn\n",
    "\n",
    "import matplotlib.pyplot as plt\n",
    "import pandas as pd\n",
    "import seaborn as sns\n",
    "import scipy\n",
    "from scipy.stats import pearsonr, spearmanr\n",
    "from sklearn.metrics import r2_score\n",
    "from sklearn.metrics import confusion_matrix,ConfusionMatrixDisplay,classification_report\n",
    "\n",
    "import time\n",
    "\n",
    "import models as m\n",
    "import utils as u\n",
    "import torch_utils as tu\n",
    "from torch_utils import DatasetSpec\n",
    "import viz as v\n",
    "\n",
    "DEVICE = torch.device('cuda' if torch.cuda.is_available() else 'cpu')\n",
    "#DEVICE = torch.device('cpu')\n",
    "DEVICE"
   ]
  },
  {
   "cell_type": "code",
   "execution_count": 3,
   "id": "manual-apparel",
   "metadata": {},
   "outputs": [
    {
     "data": {
      "text/plain": [
       "True"
      ]
     },
     "execution_count": 3,
     "metadata": {},
     "output_type": "execute_result"
    }
   ],
   "source": [
    "torch.cuda.is_available()"
   ]
  },
  {
   "cell_type": "code",
   "execution_count": 4,
   "id": "artistic-tennessee",
   "metadata": {},
   "outputs": [
    {
     "data": {
      "text/html": [
       "<div>\n",
       "<style scoped>\n",
       "    .dataframe tbody tr th:only-of-type {\n",
       "        vertical-align: middle;\n",
       "    }\n",
       "\n",
       "    .dataframe tbody tr th {\n",
       "        vertical-align: top;\n",
       "    }\n",
       "\n",
       "    .dataframe thead th {\n",
       "        text-align: right;\n",
       "    }\n",
       "</style>\n",
       "<table border=\"1\" class=\"dataframe\">\n",
       "  <thead>\n",
       "    <tr style=\"text-align: right;\">\n",
       "      <th></th>\n",
       "      <th>sequence</th>\n",
       "      <th>Measured Expression</th>\n",
       "      <th>Predicted Expression</th>\n",
       "    </tr>\n",
       "  </thead>\n",
       "  <tbody>\n",
       "    <tr>\n",
       "      <th>0</th>\n",
       "      <td>TGCATTTTTTTCACATCAAAAGTAGGTTCTTGCAGCATTCTGATGC...</td>\n",
       "      <td>8.735497</td>\n",
       "      <td>6.359788</td>\n",
       "    </tr>\n",
       "    <tr>\n",
       "      <th>1</th>\n",
       "      <td>TGCATTTTTTTCACATCAAAAGTTGTGTGAGAGGGGACCCATTAGT...</td>\n",
       "      <td>6.618866</td>\n",
       "      <td>6.136452</td>\n",
       "    </tr>\n",
       "    <tr>\n",
       "      <th>2</th>\n",
       "      <td>TGCATTTTTTTCACATCAAAAGTTTCAACTCACCCGTCACTTCGTA...</td>\n",
       "      <td>12.030058</td>\n",
       "      <td>11.752416</td>\n",
       "    </tr>\n",
       "    <tr>\n",
       "      <th>3</th>\n",
       "      <td>TGCATTTTTTTCACATCAAAATTATGCGGGGGCTGATAACGATCAA...</td>\n",
       "      <td>8.269035</td>\n",
       "      <td>7.441137</td>\n",
       "    </tr>\n",
       "    <tr>\n",
       "      <th>4</th>\n",
       "      <td>TGCATTTTTTTCACATCAAAATTGGGAGTGGATCATACCTTTAGTA...</td>\n",
       "      <td>6.305435</td>\n",
       "      <td>6.332765</td>\n",
       "    </tr>\n",
       "    <tr>\n",
       "      <th>...</th>\n",
       "      <td>...</td>\n",
       "      <td>...</td>\n",
       "      <td>...</td>\n",
       "    </tr>\n",
       "    <tr>\n",
       "      <th>5284</th>\n",
       "      <td>TGCATTTTTTTCACATCTTTTTTGCAGGAGTCTGTGGGTACACGAA...</td>\n",
       "      <td>8.448993</td>\n",
       "      <td>7.261795</td>\n",
       "    </tr>\n",
       "    <tr>\n",
       "      <th>5285</th>\n",
       "      <td>TGCATTTTTTTCACATCTTTTTTGCTTGGATCGAGTTTTTTCATCG...</td>\n",
       "      <td>10.298867</td>\n",
       "      <td>10.226810</td>\n",
       "    </tr>\n",
       "    <tr>\n",
       "      <th>5286</th>\n",
       "      <td>TGCATTTTTTTCACATCTTTTTTGTTTATATCTATTGTACGTTCGG...</td>\n",
       "      <td>9.840540</td>\n",
       "      <td>8.562830</td>\n",
       "    </tr>\n",
       "    <tr>\n",
       "      <th>5287</th>\n",
       "      <td>TGCATTTTTTTCACATCTTTTTTTCGATCCTAGGGTCTAGCGTTTG...</td>\n",
       "      <td>11.766798</td>\n",
       "      <td>10.931674</td>\n",
       "    </tr>\n",
       "    <tr>\n",
       "      <th>5288</th>\n",
       "      <td>TGCATTTTTTTCACATCTTTTTTTGTGATGGTAATTGGCGTTCTCT...</td>\n",
       "      <td>10.300665</td>\n",
       "      <td>8.831794</td>\n",
       "    </tr>\n",
       "  </tbody>\n",
       "</table>\n",
       "<p>5289 rows × 3 columns</p>\n",
       "</div>"
      ],
      "text/plain": [
       "                                               sequence  Measured Expression  \\\n",
       "0     TGCATTTTTTTCACATCAAAAGTAGGTTCTTGCAGCATTCTGATGC...             8.735497   \n",
       "1     TGCATTTTTTTCACATCAAAAGTTGTGTGAGAGGGGACCCATTAGT...             6.618866   \n",
       "2     TGCATTTTTTTCACATCAAAAGTTTCAACTCACCCGTCACTTCGTA...            12.030058   \n",
       "3     TGCATTTTTTTCACATCAAAATTATGCGGGGGCTGATAACGATCAA...             8.269035   \n",
       "4     TGCATTTTTTTCACATCAAAATTGGGAGTGGATCATACCTTTAGTA...             6.305435   \n",
       "...                                                 ...                  ...   \n",
       "5284  TGCATTTTTTTCACATCTTTTTTGCAGGAGTCTGTGGGTACACGAA...             8.448993   \n",
       "5285  TGCATTTTTTTCACATCTTTTTTGCTTGGATCGAGTTTTTTCATCG...            10.298867   \n",
       "5286  TGCATTTTTTTCACATCTTTTTTGTTTATATCTATTGTACGTTCGG...             9.840540   \n",
       "5287  TGCATTTTTTTCACATCTTTTTTTCGATCCTAGGGTCTAGCGTTTG...            11.766798   \n",
       "5288  TGCATTTTTTTCACATCTTTTTTTGTGATGGTAATTGGCGTTCTCT...            10.300665   \n",
       "\n",
       "      Predicted Expression  \n",
       "0                 6.359788  \n",
       "1                 6.136452  \n",
       "2                11.752416  \n",
       "3                 7.441137  \n",
       "4                 6.332765  \n",
       "...                    ...  \n",
       "5284              7.261795  \n",
       "5285             10.226810  \n",
       "5286              8.562830  \n",
       "5287             10.931674  \n",
       "5288              8.831794  \n",
       "\n",
       "[5289 rows x 3 columns]"
      ]
     },
     "execution_count": 4,
     "metadata": {},
     "output_type": "execute_result"
    }
   ],
   "source": [
    "ev_test_df = pd.read_csv('data/Random_test_gpu_model_defined_media.csv',sep=',',index_col=0)\n",
    "ev_test_df"
   ]
  },
  {
   "cell_type": "code",
   "execution_count": 5,
   "id": "subject-compatibility",
   "metadata": {},
   "outputs": [
    {
     "data": {
      "image/png": "[encoded data removed]",
      "text/plain": [
       "<Figure size 432x288 with 1 Axes>"
      ]
     },
     "metadata": {
      "needs_background": "light"
     },
     "output_type": "display_data"
    }
   ],
   "source": [
    "plt.hist(ev_test_df['Measured Expression'].values,bins=100,alpha=0.5)\n",
    "plt.hist(ev_test_df['Predicted Expression'].values,bins=100,alpha=0.5)\n",
    "plt.show()"
   ]
  },
  {
   "cell_type": "code",
   "execution_count": 6,
   "id": "pretty-annual",
   "metadata": {},
   "outputs": [
    {
     "name": "stdout",
     "output_type": "stream",
     "text": [
      "min: 110\n",
      "max: 110\n"
     ]
    }
   ],
   "source": [
    "# double check sequence lengths\n",
    "print(\"min:\",min([len(x) for x in ev_test_df['sequence'].values]))\n",
    "print(\"max:\",max([len(x) for x in ev_test_df['sequence'].values]))"
   ]
  },
  {
   "cell_type": "code",
   "execution_count": 7,
   "id": "recent-editing",
   "metadata": {},
   "outputs": [],
   "source": [
    "# For now, bump all sequences to length 127\n",
    "def fill_seq(seq,length):\n",
    "    if len(seq) < length:\n",
    "        num_ns = length - len(seq)\n",
    "        ns = ''.join([\"N\" for x in range(num_ns)])\n",
    "        return ns + seq\n",
    "    elif len(seq) > length:\n",
    "        raise ValueError(f\"Length of seq is longer than {length} (is {len(seq)}).\")\n",
    "    else:\n",
    "        return seq"
   ]
  },
  {
   "cell_type": "code",
   "execution_count": 8,
   "id": "dress-stone",
   "metadata": {},
   "outputs": [
    {
     "data": {
      "text/html": [
       "<div>\n",
       "<style scoped>\n",
       "    .dataframe tbody tr th:only-of-type {\n",
       "        vertical-align: middle;\n",
       "    }\n",
       "\n",
       "    .dataframe tbody tr th {\n",
       "        vertical-align: top;\n",
       "    }\n",
       "\n",
       "    .dataframe thead th {\n",
       "        text-align: right;\n",
       "    }\n",
       "</style>\n",
       "<table border=\"1\" class=\"dataframe\">\n",
       "  <thead>\n",
       "    <tr style=\"text-align: right;\">\n",
       "      <th></th>\n",
       "      <th>sequence</th>\n",
       "      <th>Measured Expression</th>\n",
       "      <th>Predicted Expression</th>\n",
       "      <th>seq</th>\n",
       "    </tr>\n",
       "  </thead>\n",
       "  <tbody>\n",
       "    <tr>\n",
       "      <th>0</th>\n",
       "      <td>TGCATTTTTTTCACATCAAAAGTAGGTTCTTGCAGCATTCTGATGC...</td>\n",
       "      <td>8.735497</td>\n",
       "      <td>6.359788</td>\n",
       "      <td>NNNNNNNNNNNNNNNNNNNNNNNNNNNNNNNNNNNNNNNNNNNNNN...</td>\n",
       "    </tr>\n",
       "    <tr>\n",
       "      <th>1</th>\n",
       "      <td>TGCATTTTTTTCACATCAAAAGTTGTGTGAGAGGGGACCCATTAGT...</td>\n",
       "      <td>6.618866</td>\n",
       "      <td>6.136452</td>\n",
       "      <td>NNNNNNNNNNNNNNNNNNNNNNNNNNNNNNNNNNNNNNNNNNNNNN...</td>\n",
       "    </tr>\n",
       "    <tr>\n",
       "      <th>2</th>\n",
       "      <td>TGCATTTTTTTCACATCAAAAGTTTCAACTCACCCGTCACTTCGTA...</td>\n",
       "      <td>12.030058</td>\n",
       "      <td>11.752416</td>\n",
       "      <td>NNNNNNNNNNNNNNNNNNNNNNNNNNNNNNNNNNNNNNNNNNNNNN...</td>\n",
       "    </tr>\n",
       "    <tr>\n",
       "      <th>3</th>\n",
       "      <td>TGCATTTTTTTCACATCAAAATTATGCGGGGGCTGATAACGATCAA...</td>\n",
       "      <td>8.269035</td>\n",
       "      <td>7.441137</td>\n",
       "      <td>NNNNNNNNNNNNNNNNNNNNNNNNNNNNNNNNNNNNNNNNNNNNNN...</td>\n",
       "    </tr>\n",
       "    <tr>\n",
       "      <th>4</th>\n",
       "      <td>TGCATTTTTTTCACATCAAAATTGGGAGTGGATCATACCTTTAGTA...</td>\n",
       "      <td>6.305435</td>\n",
       "      <td>6.332765</td>\n",
       "      <td>NNNNNNNNNNNNNNNNNNNNNNNNNNNNNNNNNNNNNNNNNNNNNN...</td>\n",
       "    </tr>\n",
       "    <tr>\n",
       "      <th>...</th>\n",
       "      <td>...</td>\n",
       "      <td>...</td>\n",
       "      <td>...</td>\n",
       "      <td>...</td>\n",
       "    </tr>\n",
       "    <tr>\n",
       "      <th>5284</th>\n",
       "      <td>TGCATTTTTTTCACATCTTTTTTGCAGGAGTCTGTGGGTACACGAA...</td>\n",
       "      <td>8.448993</td>\n",
       "      <td>7.261795</td>\n",
       "      <td>NNNNNNNNNNNNNNNNNNNNNNNNNNNNNNNNNNNNNNNNNNNNNN...</td>\n",
       "    </tr>\n",
       "    <tr>\n",
       "      <th>5285</th>\n",
       "      <td>TGCATTTTTTTCACATCTTTTTTGCTTGGATCGAGTTTTTTCATCG...</td>\n",
       "      <td>10.298867</td>\n",
       "      <td>10.226810</td>\n",
       "      <td>NNNNNNNNNNNNNNNNNNNNNNNNNNNNNNNNNNNNNNNNNNNNNN...</td>\n",
       "    </tr>\n",
       "    <tr>\n",
       "      <th>5286</th>\n",
       "      <td>TGCATTTTTTTCACATCTTTTTTGTTTATATCTATTGTACGTTCGG...</td>\n",
       "      <td>9.840540</td>\n",
       "      <td>8.562830</td>\n",
       "      <td>NNNNNNNNNNNNNNNNNNNNNNNNNNNNNNNNNNNNNNNNNNNNNN...</td>\n",
       "    </tr>\n",
       "    <tr>\n",
       "      <th>5287</th>\n",
       "      <td>TGCATTTTTTTCACATCTTTTTTTCGATCCTAGGGTCTAGCGTTTG...</td>\n",
       "      <td>11.766798</td>\n",
       "      <td>10.931674</td>\n",
       "      <td>NNNNNNNNNNNNNNNNNNNNNNNNNNNNNNNNNNNNNNNNNNNNNN...</td>\n",
       "    </tr>\n",
       "    <tr>\n",
       "      <th>5288</th>\n",
       "      <td>TGCATTTTTTTCACATCTTTTTTTGTGATGGTAATTGGCGTTCTCT...</td>\n",
       "      <td>10.300665</td>\n",
       "      <td>8.831794</td>\n",
       "      <td>NNNNNNNNNNNNNNNNNNNNNNNNNNNNNNNNNNNNNNNNNNNNNN...</td>\n",
       "    </tr>\n",
       "  </tbody>\n",
       "</table>\n",
       "<p>5289 rows × 4 columns</p>\n",
       "</div>"
      ],
      "text/plain": [
       "                                               sequence  Measured Expression  \\\n",
       "0     TGCATTTTTTTCACATCAAAAGTAGGTTCTTGCAGCATTCTGATGC...             8.735497   \n",
       "1     TGCATTTTTTTCACATCAAAAGTTGTGTGAGAGGGGACCCATTAGT...             6.618866   \n",
       "2     TGCATTTTTTTCACATCAAAAGTTTCAACTCACCCGTCACTTCGTA...            12.030058   \n",
       "3     TGCATTTTTTTCACATCAAAATTATGCGGGGGCTGATAACGATCAA...             8.269035   \n",
       "4     TGCATTTTTTTCACATCAAAATTGGGAGTGGATCATACCTTTAGTA...             6.305435   \n",
       "...                                                 ...                  ...   \n",
       "5284  TGCATTTTTTTCACATCTTTTTTGCAGGAGTCTGTGGGTACACGAA...             8.448993   \n",
       "5285  TGCATTTTTTTCACATCTTTTTTGCTTGGATCGAGTTTTTTCATCG...            10.298867   \n",
       "5286  TGCATTTTTTTCACATCTTTTTTGTTTATATCTATTGTACGTTCGG...             9.840540   \n",
       "5287  TGCATTTTTTTCACATCTTTTTTTCGATCCTAGGGTCTAGCGTTTG...            11.766798   \n",
       "5288  TGCATTTTTTTCACATCTTTTTTTGTGATGGTAATTGGCGTTCTCT...            10.300665   \n",
       "\n",
       "      Predicted Expression                                                seq  \n",
       "0                 6.359788  NNNNNNNNNNNNNNNNNNNNNNNNNNNNNNNNNNNNNNNNNNNNNN...  \n",
       "1                 6.136452  NNNNNNNNNNNNNNNNNNNNNNNNNNNNNNNNNNNNNNNNNNNNNN...  \n",
       "2                11.752416  NNNNNNNNNNNNNNNNNNNNNNNNNNNNNNNNNNNNNNNNNNNNNN...  \n",
       "3                 7.441137  NNNNNNNNNNNNNNNNNNNNNNNNNNNNNNNNNNNNNNNNNNNNNN...  \n",
       "4                 6.332765  NNNNNNNNNNNNNNNNNNNNNNNNNNNNNNNNNNNNNNNNNNNNNN...  \n",
       "...                    ...                                                ...  \n",
       "5284              7.261795  NNNNNNNNNNNNNNNNNNNNNNNNNNNNNNNNNNNNNNNNNNNNNN...  \n",
       "5285             10.226810  NNNNNNNNNNNNNNNNNNNNNNNNNNNNNNNNNNNNNNNNNNNNNN...  \n",
       "5286              8.562830  NNNNNNNNNNNNNNNNNNNNNNNNNNNNNNNNNNNNNNNNNNNNNN...  \n",
       "5287             10.931674  NNNNNNNNNNNNNNNNNNNNNNNNNNNNNNNNNNNNNNNNNNNNNN...  \n",
       "5288              8.831794  NNNNNNNNNNNNNNNNNNNNNNNNNNNNNNNNNNNNNNNNNNNNNN...  \n",
       "\n",
       "[5289 rows x 4 columns]"
      ]
     },
     "execution_count": 8,
     "metadata": {},
     "output_type": "execute_result"
    }
   ],
   "source": [
    "ev_test_df['seq'] = ev_test_df['sequence'].apply(lambda x: fill_seq(x,300))\n",
    "ev_test_df"
   ]
  },
  {
   "cell_type": "code",
   "execution_count": 9,
   "id": "negative-stroke",
   "metadata": {},
   "outputs": [
    {
     "data": {
      "text/html": [
       "<div>\n",
       "<style scoped>\n",
       "    .dataframe tbody tr th:only-of-type {\n",
       "        vertical-align: middle;\n",
       "    }\n",
       "\n",
       "    .dataframe tbody tr th {\n",
       "        vertical-align: top;\n",
       "    }\n",
       "\n",
       "    .dataframe thead th {\n",
       "        text-align: right;\n",
       "    }\n",
       "</style>\n",
       "<table border=\"1\" class=\"dataframe\">\n",
       "  <thead>\n",
       "    <tr style=\"text-align: right;\">\n",
       "      <th></th>\n",
       "      <th>sequence</th>\n",
       "      <th>Measured Expression</th>\n",
       "      <th>Predicted Expression</th>\n",
       "      <th>seq</th>\n",
       "      <th>expression</th>\n",
       "      <th>og_index</th>\n",
       "    </tr>\n",
       "  </thead>\n",
       "  <tbody>\n",
       "    <tr>\n",
       "      <th>0</th>\n",
       "      <td>TGCATTTTTTTCACATCAAAAGTAGGTTCTTGCAGCATTCTGATGC...</td>\n",
       "      <td>8.735497</td>\n",
       "      <td>6.359788</td>\n",
       "      <td>NNNNNNNNNNNNNNNNNNNNNNNNNNNNNNNNNNNNNNNNNNNNNN...</td>\n",
       "      <td>8.735497</td>\n",
       "      <td>0</td>\n",
       "    </tr>\n",
       "    <tr>\n",
       "      <th>1</th>\n",
       "      <td>TGCATTTTTTTCACATCAAAAGTTGTGTGAGAGGGGACCCATTAGT...</td>\n",
       "      <td>6.618866</td>\n",
       "      <td>6.136452</td>\n",
       "      <td>NNNNNNNNNNNNNNNNNNNNNNNNNNNNNNNNNNNNNNNNNNNNNN...</td>\n",
       "      <td>6.618866</td>\n",
       "      <td>1</td>\n",
       "    </tr>\n",
       "    <tr>\n",
       "      <th>2</th>\n",
       "      <td>TGCATTTTTTTCACATCAAAAGTTTCAACTCACCCGTCACTTCGTA...</td>\n",
       "      <td>12.030058</td>\n",
       "      <td>11.752416</td>\n",
       "      <td>NNNNNNNNNNNNNNNNNNNNNNNNNNNNNNNNNNNNNNNNNNNNNN...</td>\n",
       "      <td>12.030058</td>\n",
       "      <td>2</td>\n",
       "    </tr>\n",
       "    <tr>\n",
       "      <th>3</th>\n",
       "      <td>TGCATTTTTTTCACATCAAAATTATGCGGGGGCTGATAACGATCAA...</td>\n",
       "      <td>8.269035</td>\n",
       "      <td>7.441137</td>\n",
       "      <td>NNNNNNNNNNNNNNNNNNNNNNNNNNNNNNNNNNNNNNNNNNNNNN...</td>\n",
       "      <td>8.269035</td>\n",
       "      <td>3</td>\n",
       "    </tr>\n",
       "    <tr>\n",
       "      <th>4</th>\n",
       "      <td>TGCATTTTTTTCACATCAAAATTGGGAGTGGATCATACCTTTAGTA...</td>\n",
       "      <td>6.305435</td>\n",
       "      <td>6.332765</td>\n",
       "      <td>NNNNNNNNNNNNNNNNNNNNNNNNNNNNNNNNNNNNNNNNNNNNNN...</td>\n",
       "      <td>6.305435</td>\n",
       "      <td>4</td>\n",
       "    </tr>\n",
       "    <tr>\n",
       "      <th>...</th>\n",
       "      <td>...</td>\n",
       "      <td>...</td>\n",
       "      <td>...</td>\n",
       "      <td>...</td>\n",
       "      <td>...</td>\n",
       "      <td>...</td>\n",
       "    </tr>\n",
       "    <tr>\n",
       "      <th>5284</th>\n",
       "      <td>TGCATTTTTTTCACATCTTTTTTGCAGGAGTCTGTGGGTACACGAA...</td>\n",
       "      <td>8.448993</td>\n",
       "      <td>7.261795</td>\n",
       "      <td>NNNNNNNNNNNNNNNNNNNNNNNNNNNNNNNNNNNNNNNNNNNNNN...</td>\n",
       "      <td>8.448993</td>\n",
       "      <td>5284</td>\n",
       "    </tr>\n",
       "    <tr>\n",
       "      <th>5285</th>\n",
       "      <td>TGCATTTTTTTCACATCTTTTTTGCTTGGATCGAGTTTTTTCATCG...</td>\n",
       "      <td>10.298867</td>\n",
       "      <td>10.226810</td>\n",
       "      <td>NNNNNNNNNNNNNNNNNNNNNNNNNNNNNNNNNNNNNNNNNNNNNN...</td>\n",
       "      <td>10.298867</td>\n",
       "      <td>5285</td>\n",
       "    </tr>\n",
       "    <tr>\n",
       "      <th>5286</th>\n",
       "      <td>TGCATTTTTTTCACATCTTTTTTGTTTATATCTATTGTACGTTCGG...</td>\n",
       "      <td>9.840540</td>\n",
       "      <td>8.562830</td>\n",
       "      <td>NNNNNNNNNNNNNNNNNNNNNNNNNNNNNNNNNNNNNNNNNNNNNN...</td>\n",
       "      <td>9.840540</td>\n",
       "      <td>5286</td>\n",
       "    </tr>\n",
       "    <tr>\n",
       "      <th>5287</th>\n",
       "      <td>TGCATTTTTTTCACATCTTTTTTTCGATCCTAGGGTCTAGCGTTTG...</td>\n",
       "      <td>11.766798</td>\n",
       "      <td>10.931674</td>\n",
       "      <td>NNNNNNNNNNNNNNNNNNNNNNNNNNNNNNNNNNNNNNNNNNNNNN...</td>\n",
       "      <td>11.766798</td>\n",
       "      <td>5287</td>\n",
       "    </tr>\n",
       "    <tr>\n",
       "      <th>5288</th>\n",
       "      <td>TGCATTTTTTTCACATCTTTTTTTGTGATGGTAATTGGCGTTCTCT...</td>\n",
       "      <td>10.300665</td>\n",
       "      <td>8.831794</td>\n",
       "      <td>NNNNNNNNNNNNNNNNNNNNNNNNNNNNNNNNNNNNNNNNNNNNNN...</td>\n",
       "      <td>10.300665</td>\n",
       "      <td>5288</td>\n",
       "    </tr>\n",
       "  </tbody>\n",
       "</table>\n",
       "<p>5289 rows × 6 columns</p>\n",
       "</div>"
      ],
      "text/plain": [
       "                                               sequence  Measured Expression  \\\n",
       "0     TGCATTTTTTTCACATCAAAAGTAGGTTCTTGCAGCATTCTGATGC...             8.735497   \n",
       "1     TGCATTTTTTTCACATCAAAAGTTGTGTGAGAGGGGACCCATTAGT...             6.618866   \n",
       "2     TGCATTTTTTTCACATCAAAAGTTTCAACTCACCCGTCACTTCGTA...            12.030058   \n",
       "3     TGCATTTTTTTCACATCAAAATTATGCGGGGGCTGATAACGATCAA...             8.269035   \n",
       "4     TGCATTTTTTTCACATCAAAATTGGGAGTGGATCATACCTTTAGTA...             6.305435   \n",
       "...                                                 ...                  ...   \n",
       "5284  TGCATTTTTTTCACATCTTTTTTGCAGGAGTCTGTGGGTACACGAA...             8.448993   \n",
       "5285  TGCATTTTTTTCACATCTTTTTTGCTTGGATCGAGTTTTTTCATCG...            10.298867   \n",
       "5286  TGCATTTTTTTCACATCTTTTTTGTTTATATCTATTGTACGTTCGG...             9.840540   \n",
       "5287  TGCATTTTTTTCACATCTTTTTTTCGATCCTAGGGTCTAGCGTTTG...            11.766798   \n",
       "5288  TGCATTTTTTTCACATCTTTTTTTGTGATGGTAATTGGCGTTCTCT...            10.300665   \n",
       "\n",
       "      Predicted Expression                                                seq  \\\n",
       "0                 6.359788  NNNNNNNNNNNNNNNNNNNNNNNNNNNNNNNNNNNNNNNNNNNNNN...   \n",
       "1                 6.136452  NNNNNNNNNNNNNNNNNNNNNNNNNNNNNNNNNNNNNNNNNNNNNN...   \n",
       "2                11.752416  NNNNNNNNNNNNNNNNNNNNNNNNNNNNNNNNNNNNNNNNNNNNNN...   \n",
       "3                 7.441137  NNNNNNNNNNNNNNNNNNNNNNNNNNNNNNNNNNNNNNNNNNNNNN...   \n",
       "4                 6.332765  NNNNNNNNNNNNNNNNNNNNNNNNNNNNNNNNNNNNNNNNNNNNNN...   \n",
       "...                    ...                                                ...   \n",
       "5284              7.261795  NNNNNNNNNNNNNNNNNNNNNNNNNNNNNNNNNNNNNNNNNNNNNN...   \n",
       "5285             10.226810  NNNNNNNNNNNNNNNNNNNNNNNNNNNNNNNNNNNNNNNNNNNNNN...   \n",
       "5286              8.562830  NNNNNNNNNNNNNNNNNNNNNNNNNNNNNNNNNNNNNNNNNNNNNN...   \n",
       "5287             10.931674  NNNNNNNNNNNNNNNNNNNNNNNNNNNNNNNNNNNNNNNNNNNNNN...   \n",
       "5288              8.831794  NNNNNNNNNNNNNNNNNNNNNNNNNNNNNNNNNNNNNNNNNNNNNN...   \n",
       "\n",
       "      expression  og_index  \n",
       "0       8.735497         0  \n",
       "1       6.618866         1  \n",
       "2      12.030058         2  \n",
       "3       8.269035         3  \n",
       "4       6.305435         4  \n",
       "...          ...       ...  \n",
       "5284    8.448993      5284  \n",
       "5285   10.298867      5285  \n",
       "5286    9.840540      5286  \n",
       "5287   11.766798      5287  \n",
       "5288   10.300665      5288  \n",
       "\n",
       "[5289 rows x 6 columns]"
      ]
     },
     "execution_count": 9,
     "metadata": {},
     "output_type": "execute_result"
    }
   ],
   "source": [
    "ev_test_df['expression'] = ev_test_df['Measured Expression']\n",
    "ev_test_df['og_index'] = ev_test_df.index\n",
    "ev_test_df"
   ]
  },
  {
   "cell_type": "code",
   "execution_count": 18,
   "id": "thorough-engineering",
   "metadata": {},
   "outputs": [],
   "source": [
    "ev_test_df.to_csv('data/vaishnav_test_set_random_defined_media_300bp.tsv',sep='\\t',index=False)"
   ]
  },
  {
   "cell_type": "code",
   "execution_count": 10,
   "id": "becoming-caution",
   "metadata": {},
   "outputs": [
    {
     "name": "stdout",
     "output_type": "stream",
     "text": [
      "(0.9684701043349309, 0.0)\n"
     ]
    },
    {
     "data": {
      "image/png": "[encoded data removed]",
      "text/plain": [
       "<Figure size 432x288 with 1 Axes>"
      ]
     },
     "metadata": {
      "needs_background": "light"
     },
     "output_type": "display_data"
    }
   ],
   "source": [
    "print(scipy.stats.pearsonr(ev_test_df['Measured Expression'].values ,ev_test_df['Predicted Expression'].values ))\n",
    "sns.scatterplot(data=ev_test_df,x='Measured Expression',y='Predicted Expression')\n",
    "plt.show()"
   ]
  },
  {
   "cell_type": "code",
   "execution_count": 11,
   "id": "missing-vienna",
   "metadata": {},
   "outputs": [
    {
     "data": {
      "text/html": [
       "<div>\n",
       "<style scoped>\n",
       "    .dataframe tbody tr th:only-of-type {\n",
       "        vertical-align: middle;\n",
       "    }\n",
       "\n",
       "    .dataframe tbody tr th {\n",
       "        vertical-align: top;\n",
       "    }\n",
       "\n",
       "    .dataframe thead th {\n",
       "        text-align: right;\n",
       "    }\n",
       "</style>\n",
       "<table border=\"1\" class=\"dataframe\">\n",
       "  <thead>\n",
       "    <tr style=\"text-align: right;\">\n",
       "      <th></th>\n",
       "      <th>index</th>\n",
       "      <th>og_index</th>\n",
       "      <th>seq</th>\n",
       "      <th>expression</th>\n",
       "      <th>shuffled_seq</th>\n",
       "    </tr>\n",
       "  </thead>\n",
       "  <tbody>\n",
       "    <tr>\n",
       "      <th>0</th>\n",
       "      <td>519072</td>\n",
       "      <td>8895955</td>\n",
       "      <td>NNNNNNNNNNNNNNNNNNNNNNNNNNNNNNNNNNNNNNNNNNNNNN...</td>\n",
       "      <td>5.0</td>\n",
       "      <td>NNNNNNNNNNNNNNNNNNNNNNNNNNNNNNNNNNNNNNNNNNNNNN...</td>\n",
       "    </tr>\n",
       "    <tr>\n",
       "      <th>1</th>\n",
       "      <td>349863</td>\n",
       "      <td>3891383</td>\n",
       "      <td>NNNNNNNNNNNNNNNNNNNNNNNNNNNNNNNNNNNNNNNNNNNNNN...</td>\n",
       "      <td>5.0</td>\n",
       "      <td>NNNNNNNNNNNNNNNNNNNNNNNNNNNNNNNNNNNNNNNNNNNNNN...</td>\n",
       "    </tr>\n",
       "    <tr>\n",
       "      <th>2</th>\n",
       "      <td>825860</td>\n",
       "      <td>18356667</td>\n",
       "      <td>NNNNNNNNNNNNNNNNNNNNNNNNNNNNNNNNNNNNNNNNNNNNNN...</td>\n",
       "      <td>6.0</td>\n",
       "      <td>NNNNNNNNNNNNNNNNNNNNNNNNNNNNNNNNNNNNNNNNNNNNNN...</td>\n",
       "    </tr>\n",
       "    <tr>\n",
       "      <th>3</th>\n",
       "      <td>237553</td>\n",
       "      <td>17185025</td>\n",
       "      <td>NNNNNNNNNNNNNNNNNNNNNNNNNNNNNNNNNNNNNNNNNNNNNN...</td>\n",
       "      <td>5.0</td>\n",
       "      <td>NNNNNNNNNNNNNNNNNNNNNNNNNNNNNNNNNNNNNNNNNNNNNN...</td>\n",
       "    </tr>\n",
       "    <tr>\n",
       "      <th>4</th>\n",
       "      <td>24068</td>\n",
       "      <td>14534653</td>\n",
       "      <td>NNNNNNNNNNNNNNNNNNNNNNNNNNNNNNNNNNNNNNNNNNNNNN...</td>\n",
       "      <td>11.0</td>\n",
       "      <td>NNNNNNNNNNNNNNNNNNNNNNNNNNNNNNNNNNNNNNNNNNNNNN...</td>\n",
       "    </tr>\n",
       "    <tr>\n",
       "      <th>...</th>\n",
       "      <td>...</td>\n",
       "      <td>...</td>\n",
       "      <td>...</td>\n",
       "      <td>...</td>\n",
       "      <td>...</td>\n",
       "    </tr>\n",
       "    <tr>\n",
       "      <th>210369</th>\n",
       "      <td>603992</td>\n",
       "      <td>8405019</td>\n",
       "      <td>NNNNNNNNNNNNNNNNNNNNNNNNNNNNNNNNNNNNNNNNNNNNNN...</td>\n",
       "      <td>14.0</td>\n",
       "      <td>NNNNNNNNNNNNNNNNNNNNNNNNNNNNNNNNNNNNNNNNNNNNNN...</td>\n",
       "    </tr>\n",
       "    <tr>\n",
       "      <th>210370</th>\n",
       "      <td>534216</td>\n",
       "      <td>8414940</td>\n",
       "      <td>NNNNNNNNNNNNNNNNNNNNNNNNNNNNNNNNNNNNNNNNNNNNNN...</td>\n",
       "      <td>3.0</td>\n",
       "      <td>NNNNNNNNNNNNNNNNNNNNNNNNNNNNNNNNNNNNNNNNNNNNNN...</td>\n",
       "    </tr>\n",
       "    <tr>\n",
       "      <th>210371</th>\n",
       "      <td>1033671</td>\n",
       "      <td>1610914</td>\n",
       "      <td>NNNNNNNNNNNNNNNNNNNNNNNNNNNNNNNNNNNNNNNNNNNNNN...</td>\n",
       "      <td>11.0</td>\n",
       "      <td>NNNNNNNNNNNNNNNNNNNNNNNNNNNNNNNNNNNNNNNNNNNNNN...</td>\n",
       "    </tr>\n",
       "    <tr>\n",
       "      <th>210372</th>\n",
       "      <td>413892</td>\n",
       "      <td>15697517</td>\n",
       "      <td>NNNNNNNNNNNNNNNNNNNNNNNNNNNNNNNNNNNNNNNNNNNNNN...</td>\n",
       "      <td>13.0</td>\n",
       "      <td>NNNNNNNNNNNNNNNNNNNNNNNNNNNNNNNNNNNNNNNNNNNNNN...</td>\n",
       "    </tr>\n",
       "    <tr>\n",
       "      <th>210373</th>\n",
       "      <td>323999</td>\n",
       "      <td>16422137</td>\n",
       "      <td>NNNNNNNNNNNNNNNNNNNNNNNNNNNNNNNNNNNNNNNNNNNNNN...</td>\n",
       "      <td>11.0</td>\n",
       "      <td>NNNNNNNNNNNNNNNNNNNNNNNNNNNNNNNNNNNNNNNNNNNNNN...</td>\n",
       "    </tr>\n",
       "  </tbody>\n",
       "</table>\n",
       "<p>210374 rows × 5 columns</p>\n",
       "</div>"
      ],
      "text/plain": [
       "          index  og_index                                                seq  \\\n",
       "0        519072   8895955  NNNNNNNNNNNNNNNNNNNNNNNNNNNNNNNNNNNNNNNNNNNNNN...   \n",
       "1        349863   3891383  NNNNNNNNNNNNNNNNNNNNNNNNNNNNNNNNNNNNNNNNNNNNNN...   \n",
       "2        825860  18356667  NNNNNNNNNNNNNNNNNNNNNNNNNNNNNNNNNNNNNNNNNNNNNN...   \n",
       "3        237553  17185025  NNNNNNNNNNNNNNNNNNNNNNNNNNNNNNNNNNNNNNNNNNNNNN...   \n",
       "4         24068  14534653  NNNNNNNNNNNNNNNNNNNNNNNNNNNNNNNNNNNNNNNNNNNNNN...   \n",
       "...         ...       ...                                                ...   \n",
       "210369   603992   8405019  NNNNNNNNNNNNNNNNNNNNNNNNNNNNNNNNNNNNNNNNNNNNNN...   \n",
       "210370   534216   8414940  NNNNNNNNNNNNNNNNNNNNNNNNNNNNNNNNNNNNNNNNNNNNNN...   \n",
       "210371  1033671   1610914  NNNNNNNNNNNNNNNNNNNNNNNNNNNNNNNNNNNNNNNNNNNNNN...   \n",
       "210372   413892  15697517  NNNNNNNNNNNNNNNNNNNNNNNNNNNNNNNNNNNNNNNNNNNNNN...   \n",
       "210373   323999  16422137  NNNNNNNNNNNNNNNNNNNNNNNNNNNNNNNNNNNNNNNNNNNNNN...   \n",
       "\n",
       "        expression                                       shuffled_seq  \n",
       "0              5.0  NNNNNNNNNNNNNNNNNNNNNNNNNNNNNNNNNNNNNNNNNNNNNN...  \n",
       "1              5.0  NNNNNNNNNNNNNNNNNNNNNNNNNNNNNNNNNNNNNNNNNNNNNN...  \n",
       "2              6.0  NNNNNNNNNNNNNNNNNNNNNNNNNNNNNNNNNNNNNNNNNNNNNN...  \n",
       "3              5.0  NNNNNNNNNNNNNNNNNNNNNNNNNNNNNNNNNNNNNNNNNNNNNN...  \n",
       "4             11.0  NNNNNNNNNNNNNNNNNNNNNNNNNNNNNNNNNNNNNNNNNNNNNN...  \n",
       "...            ...                                                ...  \n",
       "210369        14.0  NNNNNNNNNNNNNNNNNNNNNNNNNNNNNNNNNNNNNNNNNNNNNN...  \n",
       "210370         3.0  NNNNNNNNNNNNNNNNNNNNNNNNNNNNNNNNNNNNNNNNNNNNNN...  \n",
       "210371        11.0  NNNNNNNNNNNNNNNNNNNNNNNNNNNNNNNNNNNNNNNNNNNNNN...  \n",
       "210372        13.0  NNNNNNNNNNNNNNNNNNNNNNNNNNNNNNNNNNNNNNNNNNNNNN...  \n",
       "210373        11.0  NNNNNNNNNNNNNNNNNNNNNNNNNNNNNNNNNNNNNNNNNNNNNN...  \n",
       "\n",
       "[210374 rows x 5 columns]"
      ]
     },
     "execution_count": 11,
     "metadata": {},
     "output_type": "execute_result"
    }
   ],
   "source": [
    "train_df = pd.read_csv('data/hyak_temp/train_df.tsv',sep='\\t')\n",
    "# val_df = pd.read_csv('data/hyak_temp/val_df.tsv',sep='\\t')\n",
    "test_df = pd.read_csv('data/hyak_temp/test_df.tsv',sep='\\t')\n",
    "seq_len = len(test_df['seq'].values[0])\n",
    "\n",
    "test_df"
   ]
  },
  {
   "cell_type": "code",
   "execution_count": 12,
   "id": "specific-aquatic",
   "metadata": {},
   "outputs": [
    {
     "data": {
      "text/plain": [
       "300"
      ]
     },
     "execution_count": 12,
     "metadata": {},
     "output_type": "execute_result"
    }
   ],
   "source": [
    "seq_len"
   ]
  },
  {
   "cell_type": "code",
   "execution_count": 13,
   "id": "standing-services",
   "metadata": {},
   "outputs": [
    {
     "data": {
      "text/plain": [
       "<All keys matched successfully>"
      ]
     },
     "execution_count": 13,
     "metadata": {},
     "output_type": "execute_result"
    }
   ],
   "source": [
    "#model_re = m.DNA_2CNN_2FC(*m_args,**m_kwargs)\n",
    "# model_re = m.DNA_2CNN_2FC(\n",
    "#     127,#seq_len,\n",
    "#     num_classes=1, # num tasks\n",
    "#     num_filters1=32,\n",
    "#     num_filters2=32,\n",
    "# #     kernel_size1=10,\n",
    "# #     kernel_size2=6,\n",
    "#     kernel_size1=8,\n",
    "#     kernel_size2=8,\n",
    "#     #conv_pool_size1=2,\n",
    "# #     fc_node_num1=50,\n",
    "# #     fc_node_num2=50,\n",
    "#     fc_node_num1=10,\n",
    "#     fc_node_num2=10,\n",
    "#     dropout1=0.25\n",
    "# )\n",
    "\n",
    "#model_re.load_state_dict(torch.load('OLD_out_evo_reduction/CNN_cv0_r0.025_regularSeqs_model_state_dict.pt'))\n",
    "\n",
    "\n",
    "model_re = m.DNA_2CNN_2FC(\n",
    "    seq_len,\n",
    "    num_classes=1, # num tasks\n",
    "    num_filters1=32,\n",
    "    num_filters2=32,\n",
    "    kernel_size1=10,\n",
    "    kernel_size2=6,\n",
    "    conv_pool_size1=2,\n",
    "    fc_node_num1=50,\n",
    "    fc_node_num2=50,\n",
    "    dropout1=0.25\n",
    ")\n",
    "\n",
    "#model_re.load_state_dict(torch.load('../hyak_scp_dump/out_evo_reduction_127bp/CNN_cv0_r1.0_regularSeqs_model_state_dict.pt'))\n",
    "model_re.load_state_dict(torch.load('saved_models/rtx3_model_state_dict.pt'))"
   ]
  },
  {
   "cell_type": "code",
   "execution_count": 14,
   "id": "mediterranean-single",
   "metadata": {},
   "outputs": [
    {
     "data": {
      "text/plain": [
       "DNA_2CNN_2FC(\n",
       "  (conv_net): Sequential(\n",
       "    (0): Conv2d(1, 32, kernel_size=(4, 10), stride=(1, 1))\n",
       "    (1): ReLU()\n",
       "    (2): MaxPool2d(kernel_size=(1, 2), stride=(1, 2), padding=0, dilation=1, ceil_mode=False)\n",
       "    (3): Dropout(p=0.25, inplace=False)\n",
       "    (4): Conv2d(32, 32, kernel_size=(1, 6), stride=(1, 1))\n",
       "    (5): ReLU()\n",
       "    (6): Dropout(p=0.2, inplace=False)\n",
       "    (7): Flatten()\n",
       "    (8): Linear(in_features=4480, out_features=50, bias=True)\n",
       "    (9): ReLU()\n",
       "    (10): Linear(in_features=50, out_features=50, bias=True)\n",
       "    (11): ReLU()\n",
       "    (12): Linear(in_features=50, out_features=1, bias=True)\n",
       "  )\n",
       ")"
      ]
     },
     "execution_count": 14,
     "metadata": {},
     "output_type": "execute_result"
    }
   ],
   "source": [
    "model_re"
   ]
  },
  {
   "cell_type": "code",
   "execution_count": 14,
   "id": "sized-option",
   "metadata": {
    "scrolled": false
   },
   "outputs": [
    {
     "name": "stdout",
     "output_type": "stream",
     "text": [
      "test split\n"
     ]
    },
    {
     "name": "stderr",
     "output_type": "stream",
     "text": [
      "/home/ubuntu/workspace/mbur-sequence-learning/torch_utils.py:939: SettingWithCopyWarning: \n",
      "A value is trying to be set on a copy of a slice from a DataFrame.\n",
      "Try using .loc[row_indexer,col_indexer] = value instead\n",
      "\n",
      "See the caveats in the documentation: https://pandas.pydata.org/pandas-docs/stable/user_guide/indexing.html#returning-a-view-versus-a-copy\n",
      "  pred_df['truth'] = df[target_col]\n"
     ]
    },
    {
     "name": "stdout",
     "output_type": "stream",
     "text": [
      "Predicting for reloaded 1M model\n"
     ]
    },
    {
     "name": "stderr",
     "output_type": "stream",
     "text": [
      "/home/ubuntu/workspace/mbur-sequence-learning/torch_utils.py:956: SettingWithCopyWarning: \n",
      "A value is trying to be set on a copy of a slice from a DataFrame.\n",
      "Try using .loc[row_indexer,col_indexer] = value instead\n",
      "\n",
      "See the caveats in the documentation: https://pandas.pydata.org/pandas-docs/stable/user_guide/indexing.html#returning-a-view-versus-a-copy\n",
      "  pred_df['pred'] = [x[0] for x in preds]\n"
     ]
    },
    {
     "name": "stdout",
     "output_type": "stream",
     "text": [
      "Saved test predictions to data/hyak_temp/rtx3_test_preds.tsv\n",
      "evo split\n"
     ]
    },
    {
     "name": "stderr",
     "output_type": "stream",
     "text": [
      "/home/ubuntu/workspace/mbur-sequence-learning/torch_utils.py:939: SettingWithCopyWarning: \n",
      "A value is trying to be set on a copy of a slice from a DataFrame.\n",
      "Try using .loc[row_indexer,col_indexer] = value instead\n",
      "\n",
      "See the caveats in the documentation: https://pandas.pydata.org/pandas-docs/stable/user_guide/indexing.html#returning-a-view-versus-a-copy\n",
      "  pred_df['truth'] = df[target_col]\n"
     ]
    },
    {
     "name": "stdout",
     "output_type": "stream",
     "text": [
      "Predicting for reloaded 1M model\n"
     ]
    },
    {
     "name": "stderr",
     "output_type": "stream",
     "text": [
      "/home/ubuntu/workspace/mbur-sequence-learning/torch_utils.py:956: SettingWithCopyWarning: \n",
      "A value is trying to be set on a copy of a slice from a DataFrame.\n",
      "Try using .loc[row_indexer,col_indexer] = value instead\n",
      "\n",
      "See the caveats in the documentation: https://pandas.pydata.org/pandas-docs/stable/user_guide/indexing.html#returning-a-view-versus-a-copy\n",
      "  pred_df['pred'] = [x[0] for x in preds]\n"
     ]
    },
    {
     "data": {
      "image/png": "[encoded data removed]",
      "text/plain": [
       "<Figure size 720x288 with 2 Axes>"
      ]
     },
     "metadata": {
      "needs_background": "light"
     },
     "output_type": "display_data"
    }
   ],
   "source": [
    "split_dfs = {\n",
    "#     'train':train_df.sample(frac=0.025),\n",
    "#     'val':val_df.sample(frac=0.25),\n",
    "    'test':test_df, \n",
    "    'evo': ev_test_df\n",
    "}\n",
    "\n",
    "p_res_df = tu.parity_pred_by_split(\n",
    "        model_re.to(DEVICE),\n",
    "        \"reloaded 1M model\",\n",
    "        DEVICE,\n",
    "        split_dfs,\n",
    "        locus_col='og_index',\n",
    "        seq_col='seq',\n",
    "        target_col='expression',\n",
    "        splits=['test','evo'],\n",
    "        save_test_preds='data/hyak_temp/rtx3_test_preds.tsv'\n",
    "        #save_file=f\"{out_dir}/{model_name}_parity_plot.png\"\n",
    "    )"
   ]
  },
  {
   "cell_type": "code",
   "execution_count": 15,
   "id": "coated-genius",
   "metadata": {},
   "outputs": [
    {
     "name": "stdout",
     "output_type": "stream",
     "text": [
      "train split\n"
     ]
    },
    {
     "name": "stderr",
     "output_type": "stream",
     "text": [
      "/home/ubuntu/workspace/mbur-sequence-learning/torch_utils.py:939: SettingWithCopyWarning: \n",
      "A value is trying to be set on a copy of a slice from a DataFrame.\n",
      "Try using .loc[row_indexer,col_indexer] = value instead\n",
      "\n",
      "See the caveats in the documentation: https://pandas.pydata.org/pandas-docs/stable/user_guide/indexing.html#returning-a-view-versus-a-copy\n",
      "  pred_df['truth'] = df[target_col]\n"
     ]
    },
    {
     "name": "stdout",
     "output_type": "stream",
     "text": [
      "Predicting for reloaded 1M model\n"
     ]
    },
    {
     "name": "stderr",
     "output_type": "stream",
     "text": [
      "/home/ubuntu/workspace/mbur-sequence-learning/torch_utils.py:956: SettingWithCopyWarning: \n",
      "A value is trying to be set on a copy of a slice from a DataFrame.\n",
      "Try using .loc[row_indexer,col_indexer] = value instead\n",
      "\n",
      "See the caveats in the documentation: https://pandas.pydata.org/pandas-docs/stable/user_guide/indexing.html#returning-a-view-versus-a-copy\n",
      "  pred_df['pred'] = [x[0] for x in preds]\n"
     ]
    },
    {
     "name": "stdout",
     "output_type": "stream",
     "text": [
      "test split\n"
     ]
    },
    {
     "name": "stderr",
     "output_type": "stream",
     "text": [
      "/home/ubuntu/workspace/mbur-sequence-learning/torch_utils.py:939: SettingWithCopyWarning: \n",
      "A value is trying to be set on a copy of a slice from a DataFrame.\n",
      "Try using .loc[row_indexer,col_indexer] = value instead\n",
      "\n",
      "See the caveats in the documentation: https://pandas.pydata.org/pandas-docs/stable/user_guide/indexing.html#returning-a-view-versus-a-copy\n",
      "  pred_df['truth'] = df[target_col]\n"
     ]
    },
    {
     "name": "stdout",
     "output_type": "stream",
     "text": [
      "Predicting for reloaded 1M model\n"
     ]
    },
    {
     "name": "stderr",
     "output_type": "stream",
     "text": [
      "/home/ubuntu/workspace/mbur-sequence-learning/torch_utils.py:956: SettingWithCopyWarning: \n",
      "A value is trying to be set on a copy of a slice from a DataFrame.\n",
      "Try using .loc[row_indexer,col_indexer] = value instead\n",
      "\n",
      "See the caveats in the documentation: https://pandas.pydata.org/pandas-docs/stable/user_guide/indexing.html#returning-a-view-versus-a-copy\n",
      "  pred_df['pred'] = [x[0] for x in preds]\n"
     ]
    },
    {
     "name": "stdout",
     "output_type": "stream",
     "text": [
      "evo split\n"
     ]
    },
    {
     "name": "stderr",
     "output_type": "stream",
     "text": [
      "/home/ubuntu/workspace/mbur-sequence-learning/torch_utils.py:939: SettingWithCopyWarning: \n",
      "A value is trying to be set on a copy of a slice from a DataFrame.\n",
      "Try using .loc[row_indexer,col_indexer] = value instead\n",
      "\n",
      "See the caveats in the documentation: https://pandas.pydata.org/pandas-docs/stable/user_guide/indexing.html#returning-a-view-versus-a-copy\n",
      "  pred_df['truth'] = df[target_col]\n"
     ]
    },
    {
     "name": "stdout",
     "output_type": "stream",
     "text": [
      "Predicting for reloaded 1M model\n"
     ]
    },
    {
     "name": "stderr",
     "output_type": "stream",
     "text": [
      "/home/ubuntu/workspace/mbur-sequence-learning/torch_utils.py:956: SettingWithCopyWarning: \n",
      "A value is trying to be set on a copy of a slice from a DataFrame.\n",
      "Try using .loc[row_indexer,col_indexer] = value instead\n",
      "\n",
      "See the caveats in the documentation: https://pandas.pydata.org/pandas-docs/stable/user_guide/indexing.html#returning-a-view-versus-a-copy\n",
      "  pred_df['pred'] = [x[0] for x in preds]\n"
     ]
    },
    {
     "data": {
      "image/png": "[encoded data removed]",
      "text/plain": [
       "<Figure size 720x288 with 3 Axes>"
      ]
     },
     "metadata": {
      "needs_background": "light"
     },
     "output_type": "display_data"
    }
   ],
   "source": [
    "split_dfs = {\n",
    "    'train':train_df.sample(frac=0.5),\n",
    "    #'val':val_df,\n",
    "    'test':test_df, \n",
    "    'evo': ev_test_df\n",
    "}\n",
    "\n",
    "p_res_df = tu.parity_pred_by_split(\n",
    "        model_re.to(DEVICE),\n",
    "        \"reloaded 1M model\",\n",
    "        DEVICE,\n",
    "        split_dfs,\n",
    "        locus_col='og_index',\n",
    "        seq_col='seq',\n",
    "        target_col='expression',\n",
    "        splits=['train','test','evo'],\n",
    "        #save_file=f\"{out_dir}/{model_name}_parity_plot.png\"\n",
    "    )"
   ]
  },
  {
   "cell_type": "code",
   "execution_count": 16,
   "id": "copyrighted-ethics",
   "metadata": {},
   "outputs": [
    {
     "data": {
      "text/plain": [
       "2"
      ]
     },
     "execution_count": 16,
     "metadata": {},
     "output_type": "execute_result"
    }
   ],
   "source": [
    "1+1"
   ]
  },
  {
   "cell_type": "code",
   "execution_count": null,
   "id": "favorite-pregnancy",
   "metadata": {},
   "outputs": [],
   "source": []
  }
 ],
 "metadata": {
  "kernelspec": {
   "display_name": "Python 3",
   "language": "python",
   "name": "python3"
  },
  "language_info": {
   "codemirror_mode": {
    "name": "ipython",
    "version": 3
   },
   "file_extension": ".py",
   "mimetype": "text/x-python",
   "name": "python",
   "nbconvert_exporter": "python",
   "pygments_lexer": "ipython3",
   "version": "3.7.10"
  }
 },
 "nbformat": 4,
 "nbformat_minor": 5
}
